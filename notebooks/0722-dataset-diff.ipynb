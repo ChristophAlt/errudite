{
 "cells": [
  {
   "cell_type": "code",
   "execution_count": 4,
   "metadata": {},
   "outputs": [
    {
     "name": "stdout",
     "output_type": "stream",
     "text": [
      "The autoreload extension is already loaded. To reload it, use:\n",
      "  %reload_ext autoreload\n"
     ]
    }
   ],
   "source": [
    "%load_ext autoreload\n",
    "%autoreload 2\n",
    "import warnings\n",
    "warnings.filterwarnings('ignore')\n",
    "%matplotlib inline\n",
    "\n",
    "import matplotlib\n",
    "import numpy as np\n",
    "import matplotlib.pyplot as plt\n",
    "import os\n",
    "def import_sys():\n",
    "    import sys\n",
    "    sys.path.append('..')\n",
    "    sys.path.append('../..')\n",
    "import_sys()\n",
    "\n",
    "import logging\n",
    "logging.basicConfig(level=logging.INFO)\n",
    "logger = logging.getLogger(__name__)  # pylint: disable=invalid-name"
   ]
  },
  {
   "cell_type": "code",
   "execution_count": 5,
   "metadata": {},
   "outputs": [
    {
     "name": "stderr",
     "output_type": "stream",
     "text": [
      "INFO:errudite.utils.file_utils:Errudite cache folder selected: /Users/tongshuangwu/datasets/caches/dataset_debug/mrqa-1200\n"
     ]
    }
   ],
   "source": [
    "import errudite\n",
    "from errudite.io import DatasetReader\n",
    "DATASET_FOLDER = errudite.utils.normalize_file_path(\"~/datasets/raw_data/mrqa/\")\n",
    "MODEL_FOLDER = errudite.utils.normalize_file_path(\"~/datasets/models/mrqa/\")\n",
    "reader = DatasetReader.by_name(\"mrqa\")(\n",
    "    cache_folder_path=\"~/datasets/caches/dataset_debug/mrqa-1200\")"
   ]
  },
  {
   "cell_type": "code",
   "execution_count": 6,
   "metadata": {},
   "outputs": [
    {
     "name": "stderr",
     "output_type": "stream",
     "text": [
      "INFO:errudite.io.dataset_reader:Loaded 1200 objects to /Users/tongshuangwu/datasets/caches/dataset_debug/mrqa-1200/instances.pkl.\n",
      "INFO:errudite.io.dataset_reader:Loaded 1200 objects to /Users/tongshuangwu/datasets/caches/dataset_debug/mrqa-1200/evaluations/mrqa_path.pkl.\n"
     ]
    }
   ],
   "source": [
    "reader.load_preprocessed()"
   ]
  },
  {
   "cell_type": "code",
   "execution_count": null,
   "metadata": {},
   "outputs": [],
   "source": []
  }
 ],
 "metadata": {
  "kernelspec": {
   "display_name": "Python 3",
   "language": "python",
   "name": "python3"
  },
  "language_info": {
   "codemirror_mode": {
    "name": "ipython",
    "version": 3
   },
   "file_extension": ".py",
   "mimetype": "text/x-python",
   "name": "python",
   "nbconvert_exporter": "python",
   "pygments_lexer": "ipython3",
   "version": "3.6.5"
  }
 },
 "nbformat": 4,
 "nbformat_minor": 4
}
