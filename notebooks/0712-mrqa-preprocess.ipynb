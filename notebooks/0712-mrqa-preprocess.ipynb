{
 "cells": [
  {
   "cell_type": "code",
   "execution_count": null,
   "metadata": {
    "scrolled": true
   },
   "outputs": [],
   "source": [
    "context = '[DOC] [TLE] J! Archive - Show #5243, aired 2007-05-30 [PAR] May 30, 2007 ... 1976: \"A Single Colorado Mountain\". $1200, 19. Founded in the 1530s, this \\ncapital of Jalisco state is the second-largest in Mexico. $1200, 23... [DOC] [TLE] November 14, 2008 [PAR] ... \"Regular Folks\" Ordinary People 1932: \"Magnificent Inn\" Grand Hotel 1976: \"A \\nSingle Colorado Mountain\" Rocky Down Mexico Way: In 1986 Mexico scored... [DOC] [TLE] LAND USE AND LANDSCAPE CHANGE IN THE COLORADO ... [PAR] ... landscape change in a single Colorado mountain valley using methods from \\n..... and for multi-family 1970 1973 1976 1979 1982 1985 1988 1991 complexes... [DOC] [TLE] J! set #1 Flashcards | Quizlet [PAR] 18 shows included Learn with flashcards, games, and more  for free. '\n",
    "\n",
    "from errudite.processor import SpacyAnnotator\n",
    "spacy_annotator = SpacyAnnotator(disable=['parser', 'ner', 'textcat'])\n",
    "list(spacy_annotator.process_text(context))"
   ]
  },
  {
   "cell_type": "code",
   "execution_count": null,
   "metadata": {},
   "outputs": [],
   "source": [
    "import glob, os\n",
    "\n",
    "import errudite\n",
    "from errudite.io import DatasetReader\n",
    "from errudite.predictors import Predictor\n",
    "from errudite.targets.instance import Instance\n",
    "from errudite.targets.label import Label\n",
    "from errudite.utils import accuracy_score, normalize_file_path\n",
    "\n",
    "DATASET_FOLDER = normalize_file_path(\"~/datasets/raw_data/mrqa/out_of_domain_devs\")\n",
    "sample_size=100000\n",
    "file_path = \",\".join(glob.glob(os.path.join(DATASET_FOLDER, \"*.jsonl.gz\")))\n",
    "reader = DatasetReader.by_name(\"mrqa\")(\n",
    "    cache_folder_path=f\"~/datasets/caches/dataset_debug/mrqa-{sample_size}\")\n",
    "instances = reader.read(file_path, sample_size=sample_size)"
   ]
  },
  {
   "cell_type": "code",
   "execution_count": 2,
   "metadata": {},
   "outputs": [
    {
     "name": "stdout",
     "output_type": "stream",
     "text": [
      "The autoreload extension is already loaded. To reload it, use:\n",
      "  %reload_ext autoreload\n"
     ]
    }
   ],
   "source": [
    "%load_ext autoreload\n",
    "%autoreload 2\n",
    "import warnings\n",
    "warnings.filterwarnings('ignore')\n",
    "%matplotlib inline\n",
    "\n",
    "import matplotlib\n",
    "import numpy as np\n",
    "import matplotlib.pyplot as plt\n",
    "import os\n",
    "def import_sys():\n",
    "    import sys\n",
    "    sys.path.append('..')\n",
    "    sys.path.append('../..')\n",
    "import_sys()\n",
    "\n",
    "import logging\n",
    "logging.basicConfig(level=logging.INFO)\n",
    "logger = logging.getLogger(__name__)  # pylint: disable=invalidzx-name"
   ]
  },
  {
   "cell_type": "code",
   "execution_count": 4,
   "metadata": {
    "scrolled": true
   },
   "outputs": [
    {
     "name": "stderr",
     "output_type": "stream",
     "text": [
      "INFO:errudite.utils.file_utils:Errudite cache folder selected: /Users/tongshuangwu/datasets/caches/dataset_debug/mrqa-10\n",
      "INFO:errudite.io.dataset_reader:Reading instances from lines in file at: /Users/tongshuangwu/datasets/raw_data/mrqa/in_domain_devs/NaturalQuestions.jsonl.gz\n",
      "INFO:errudite.io.mrqa_reader:Reading from dataset: NaturalQuestionsShort (in).\n",
      "8it [00:00, 34.42it/s]\n",
      "WARNING:errudite.utils.file_utils:Local path not yet exist, but still parsed: /Users/tongshuangwu/datasets/caches/dataset_debug/mrqa-10/vocab.pkl\n",
      "WARNING:errudite.processor.spacy_annotator:(2, 'No such file or directory')\n",
      "INFO:allennlp.models.archival:loading archive file /Users/tongshuangwu/datasets/models/mrqa/mrqa_bert_base.gz\n",
      "INFO:allennlp.models.archival:extracting archive file /Users/tongshuangwu/datasets/models/mrqa/mrqa_bert_base.gz to temp dir /var/folders/9k/yx4ryhp918qfxx59mmp174lh0000gn/T/tmpftogm90q\n",
      "INFO:allennlp.common.params:type = default\n",
      "INFO:allennlp.data.vocabulary:Loading token dictionary from /var/folders/9k/yx4ryhp918qfxx59mmp174lh0000gn/T/tmpftogm90q/vocabulary.\n",
      "INFO:allennlp.common.from_params:instantiating class <class 'allennlp.models.model.Model'> from params {'initializer': [], 'text_field_embedder': {'allow_unmatched_keys': True, 'embedder_to_indexer_map': {'bert': ['bert', 'bert-offsets']}, 'token_embedders': {'bert': {'pretrained_model': 'bert-base-uncased', 'requires_grad': True, 'type': 'bert-pretrained'}}}, 'type': 'BERT_QA'} and extras {'vocab'}\n",
      "INFO:allennlp.common.params:model.type = BERT_QA\n",
      "INFO:allennlp.common.from_params:instantiating class <class 'errudite.predictors.qa.mrqa_allennlp.BERT_QA.BERT_QA'> from params {'initializer': [], 'text_field_embedder': {'allow_unmatched_keys': True, 'embedder_to_indexer_map': {'bert': ['bert', 'bert-offsets']}, 'token_embedders': {'bert': {'pretrained_model': 'bert-base-uncased', 'requires_grad': True, 'type': 'bert-pretrained'}}}} and extras {'vocab'}\n",
      "INFO:allennlp.common.from_params:instantiating class <class 'allennlp.modules.text_field_embedders.text_field_embedder.TextFieldEmbedder'> from params {'allow_unmatched_keys': True, 'embedder_to_indexer_map': {'bert': ['bert', 'bert-offsets']}, 'token_embedders': {'bert': {'pretrained_model': 'bert-base-uncased', 'requires_grad': True, 'type': 'bert-pretrained'}}} and extras {'vocab'}\n",
      "INFO:allennlp.common.params:model.text_field_embedder.type = basic\n",
      "INFO:allennlp.common.params:model.text_field_embedder.allow_unmatched_keys = True\n",
      "INFO:allennlp.common.from_params:instantiating class <class 'allennlp.modules.token_embedders.token_embedder.TokenEmbedder'> from params {'pretrained_model': 'bert-base-uncased', 'requires_grad': True, 'type': 'bert-pretrained'} and extras {'vocab'}\n",
      "INFO:allennlp.common.params:model.text_field_embedder.token_embedders.bert.type = bert-pretrained\n",
      "INFO:allennlp.common.from_params:instantiating class <class 'allennlp.modules.token_embedders.bert_token_embedder.PretrainedBertEmbedder'> from params {'pretrained_model': 'bert-base-uncased', 'requires_grad': True} and extras {'vocab'}\n",
      "INFO:allennlp.common.params:model.text_field_embedder.token_embedders.bert.pretrained_model = bert-base-uncased\n",
      "INFO:allennlp.common.params:model.text_field_embedder.token_embedders.bert.requires_grad = True\n",
      "INFO:allennlp.common.params:model.text_field_embedder.token_embedders.bert.top_layer_only = False\n",
      "INFO:pytorch_pretrained_bert.modeling:loading archive file https://s3.amazonaws.com/models.huggingface.co/bert/bert-base-uncased.tar.gz from cache at /Users/tongshuangwu/.pytorch_pretrained_bert/9c41111e2de84547a463fd39217199738d1e3deb72d4fec4399e6e241983c6f0.ae3cef932725ca7a30cdcb93fc6e09150a55e2a130ec7af63975a16c153ae2ba\n",
      "INFO:pytorch_pretrained_bert.modeling:extracting archive file /Users/tongshuangwu/.pytorch_pretrained_bert/9c41111e2de84547a463fd39217199738d1e3deb72d4fec4399e6e241983c6f0.ae3cef932725ca7a30cdcb93fc6e09150a55e2a130ec7af63975a16c153ae2ba to temp dir /var/folders/9k/yx4ryhp918qfxx59mmp174lh0000gn/T/tmpj3ba6fbt\n",
      "INFO:pytorch_pretrained_bert.modeling:Model config {\n",
      "  \"attention_probs_dropout_prob\": 0.1,\n",
      "  \"hidden_act\": \"gelu\",\n",
      "  \"hidden_dropout_prob\": 0.1,\n",
      "  \"hidden_size\": 768,\n",
      "  \"initializer_range\": 0.02,\n",
      "  \"intermediate_size\": 3072,\n",
      "  \"max_position_embeddings\": 512,\n",
      "  \"num_attention_heads\": 12,\n",
      "  \"num_hidden_layers\": 12,\n",
      "  \"type_vocab_size\": 2,\n",
      "  \"vocab_size\": 30522\n",
      "}\n",
      "\n",
      "INFO:allennlp.common.params:model.initializer = []\n",
      "INFO:allennlp.common.params:model.dropout = 0.2\n",
      "INFO:allennlp.common.params:model.max_span_length = 30\n",
      "INFO:allennlp.common.params:model.predictions_file = None\n",
      "INFO:allennlp.common.params:model.use_multi_label_loss = False\n",
      "INFO:allennlp.common.params:model.stats_report_freq = None\n",
      "INFO:allennlp.common.params:model.debug_experiment_name = None\n",
      "INFO:allennlp.nn.initializers:Initializing parameters\n",
      "INFO:allennlp.nn.initializers:Done initializing parameters; the following parameters are using their default initialization from their code\n",
      "INFO:allennlp.nn.initializers:   _text_field_embedder.token_embedder_bert._scalar_mix.gamma\n",
      "INFO:allennlp.nn.initializers:   _text_field_embedder.token_embedder_bert._scalar_mix.scalar_parameters.0\n",
      "INFO:allennlp.nn.initializers:   _text_field_embedder.token_embedder_bert._scalar_mix.scalar_parameters.1\n",
      "INFO:allennlp.nn.initializers:   _text_field_embedder.token_embedder_bert._scalar_mix.scalar_parameters.10\n",
      "INFO:allennlp.nn.initializers:   _text_field_embedder.token_embedder_bert._scalar_mix.scalar_parameters.11\n",
      "INFO:allennlp.nn.initializers:   _text_field_embedder.token_embedder_bert._scalar_mix.scalar_parameters.2\n",
      "INFO:allennlp.nn.initializers:   _text_field_embedder.token_embedder_bert._scalar_mix.scalar_parameters.3\n",
      "INFO:allennlp.nn.initializers:   _text_field_embedder.token_embedder_bert._scalar_mix.scalar_parameters.4\n",
      "INFO:allennlp.nn.initializers:   _text_field_embedder.token_embedder_bert._scalar_mix.scalar_parameters.5\n",
      "INFO:allennlp.nn.initializers:   _text_field_embedder.token_embedder_bert._scalar_mix.scalar_parameters.6\n",
      "INFO:allennlp.nn.initializers:   _text_field_embedder.token_embedder_bert._scalar_mix.scalar_parameters.7\n",
      "INFO:allennlp.nn.initializers:   _text_field_embedder.token_embedder_bert._scalar_mix.scalar_parameters.8\n",
      "INFO:allennlp.nn.initializers:   _text_field_embedder.token_embedder_bert._scalar_mix.scalar_parameters.9\n",
      "INFO:allennlp.nn.initializers:   _text_field_embedder.token_embedder_bert.bert_model.embeddings.LayerNorm.bias\n",
      "INFO:allennlp.nn.initializers:   _text_field_embedder.token_embedder_bert.bert_model.embeddings.LayerNorm.weight\n",
      "INFO:allennlp.nn.initializers:   _text_field_embedder.token_embedder_bert.bert_model.embeddings.position_embeddings.weight\n",
      "INFO:allennlp.nn.initializers:   _text_field_embedder.token_embedder_bert.bert_model.embeddings.token_type_embeddings.weight\n",
      "INFO:allennlp.nn.initializers:   _text_field_embedder.token_embedder_bert.bert_model.embeddings.word_embeddings.weight\n",
      "INFO:allennlp.nn.initializers:   _text_field_embedder.token_embedder_bert.bert_model.encoder.layer.0.attention.output.LayerNorm.bias\n",
      "INFO:allennlp.nn.initializers:   _text_field_embedder.token_embedder_bert.bert_model.encoder.layer.0.attention.output.LayerNorm.weight\n",
      "INFO:allennlp.nn.initializers:   _text_field_embedder.token_embedder_bert.bert_model.encoder.layer.0.attention.output.dense.bias\n",
      "INFO:allennlp.nn.initializers:   _text_field_embedder.token_embedder_bert.bert_model.encoder.layer.0.attention.output.dense.weight\n",
      "INFO:allennlp.nn.initializers:   _text_field_embedder.token_embedder_bert.bert_model.encoder.layer.0.attention.self.key.bias\n",
      "INFO:allennlp.nn.initializers:   _text_field_embedder.token_embedder_bert.bert_model.encoder.layer.0.attention.self.key.weight\n",
      "INFO:allennlp.nn.initializers:   _text_field_embedder.token_embedder_bert.bert_model.encoder.layer.0.attention.self.query.bias\n",
      "INFO:allennlp.nn.initializers:   _text_field_embedder.token_embedder_bert.bert_model.encoder.layer.0.attention.self.query.weight\n",
      "INFO:allennlp.nn.initializers:   _text_field_embedder.token_embedder_bert.bert_model.encoder.layer.0.attention.self.value.bias\n",
      "INFO:allennlp.nn.initializers:   _text_field_embedder.token_embedder_bert.bert_model.encoder.layer.0.attention.self.value.weight\n",
      "INFO:allennlp.nn.initializers:   _text_field_embedder.token_embedder_bert.bert_model.encoder.layer.0.intermediate.dense.bias\n",
      "INFO:allennlp.nn.initializers:   _text_field_embedder.token_embedder_bert.bert_model.encoder.layer.0.intermediate.dense.weight\n",
      "INFO:allennlp.nn.initializers:   _text_field_embedder.token_embedder_bert.bert_model.encoder.layer.0.output.LayerNorm.bias\n",
      "INFO:allennlp.nn.initializers:   _text_field_embedder.token_embedder_bert.bert_model.encoder.layer.0.output.LayerNorm.weight\n",
      "INFO:allennlp.nn.initializers:   _text_field_embedder.token_embedder_bert.bert_model.encoder.layer.0.output.dense.bias\n",
      "INFO:allennlp.nn.initializers:   _text_field_embedder.token_embedder_bert.bert_model.encoder.layer.0.output.dense.weight\n",
      "INFO:allennlp.nn.initializers:   _text_field_embedder.token_embedder_bert.bert_model.encoder.layer.1.attention.output.LayerNorm.bias\n",
      "INFO:allennlp.nn.initializers:   _text_field_embedder.token_embedder_bert.bert_model.encoder.layer.1.attention.output.LayerNorm.weight\n",
      "INFO:allennlp.nn.initializers:   _text_field_embedder.token_embedder_bert.bert_model.encoder.layer.1.attention.output.dense.bias\n",
      "INFO:allennlp.nn.initializers:   _text_field_embedder.token_embedder_bert.bert_model.encoder.layer.1.attention.output.dense.weight\n",
      "INFO:allennlp.nn.initializers:   _text_field_embedder.token_embedder_bert.bert_model.encoder.layer.1.attention.self.key.bias\n",
      "INFO:allennlp.nn.initializers:   _text_field_embedder.token_embedder_bert.bert_model.encoder.layer.1.attention.self.key.weight\n",
      "INFO:allennlp.nn.initializers:   _text_field_embedder.token_embedder_bert.bert_model.encoder.layer.1.attention.self.query.bias\n",
      "INFO:allennlp.nn.initializers:   _text_field_embedder.token_embedder_bert.bert_model.encoder.layer.1.attention.self.query.weight\n",
      "INFO:allennlp.nn.initializers:   _text_field_embedder.token_embedder_bert.bert_model.encoder.layer.1.attention.self.value.bias\n",
      "INFO:allennlp.nn.initializers:   _text_field_embedder.token_embedder_bert.bert_model.encoder.layer.1.attention.self.value.weight\n",
      "INFO:allennlp.nn.initializers:   _text_field_embedder.token_embedder_bert.bert_model.encoder.layer.1.intermediate.dense.bias\n",
      "INFO:allennlp.nn.initializers:   _text_field_embedder.token_embedder_bert.bert_model.encoder.layer.1.intermediate.dense.weight\n",
      "INFO:allennlp.nn.initializers:   _text_field_embedder.token_embedder_bert.bert_model.encoder.layer.1.output.LayerNorm.bias\n",
      "INFO:allennlp.nn.initializers:   _text_field_embedder.token_embedder_bert.bert_model.encoder.layer.1.output.LayerNorm.weight\n",
      "INFO:allennlp.nn.initializers:   _text_field_embedder.token_embedder_bert.bert_model.encoder.layer.1.output.dense.bias\n",
      "INFO:allennlp.nn.initializers:   _text_field_embedder.token_embedder_bert.bert_model.encoder.layer.1.output.dense.weight\n",
      "INFO:allennlp.nn.initializers:   _text_field_embedder.token_embedder_bert.bert_model.encoder.layer.10.attention.output.LayerNorm.bias\n",
      "INFO:allennlp.nn.initializers:   _text_field_embedder.token_embedder_bert.bert_model.encoder.layer.10.attention.output.LayerNorm.weight\n",
      "INFO:allennlp.nn.initializers:   _text_field_embedder.token_embedder_bert.bert_model.encoder.layer.10.attention.output.dense.bias\n",
      "INFO:allennlp.nn.initializers:   _text_field_embedder.token_embedder_bert.bert_model.encoder.layer.10.attention.output.dense.weight\n",
      "INFO:allennlp.nn.initializers:   _text_field_embedder.token_embedder_bert.bert_model.encoder.layer.10.attention.self.key.bias\n",
      "INFO:allennlp.nn.initializers:   _text_field_embedder.token_embedder_bert.bert_model.encoder.layer.10.attention.self.key.weight\n",
      "INFO:allennlp.nn.initializers:   _text_field_embedder.token_embedder_bert.bert_model.encoder.layer.10.attention.self.query.bias\n",
      "INFO:allennlp.nn.initializers:   _text_field_embedder.token_embedder_bert.bert_model.encoder.layer.10.attention.self.query.weight\n",
      "INFO:allennlp.nn.initializers:   _text_field_embedder.token_embedder_bert.bert_model.encoder.layer.10.attention.self.value.bias\n",
      "INFO:allennlp.nn.initializers:   _text_field_embedder.token_embedder_bert.bert_model.encoder.layer.10.attention.self.value.weight\n",
      "INFO:allennlp.nn.initializers:   _text_field_embedder.token_embedder_bert.bert_model.encoder.layer.10.intermediate.dense.bias\n",
      "INFO:allennlp.nn.initializers:   _text_field_embedder.token_embedder_bert.bert_model.encoder.layer.10.intermediate.dense.weight\n",
      "INFO:allennlp.nn.initializers:   _text_field_embedder.token_embedder_bert.bert_model.encoder.layer.10.output.LayerNorm.bias\n",
      "INFO:allennlp.nn.initializers:   _text_field_embedder.token_embedder_bert.bert_model.encoder.layer.10.output.LayerNorm.weight\n",
      "INFO:allennlp.nn.initializers:   _text_field_embedder.token_embedder_bert.bert_model.encoder.layer.10.output.dense.bias\n",
      "INFO:allennlp.nn.initializers:   _text_field_embedder.token_embedder_bert.bert_model.encoder.layer.10.output.dense.weight\n",
      "INFO:allennlp.nn.initializers:   _text_field_embedder.token_embedder_bert.bert_model.encoder.layer.11.attention.output.LayerNorm.bias\n",
      "INFO:allennlp.nn.initializers:   _text_field_embedder.token_embedder_bert.bert_model.encoder.layer.11.attention.output.LayerNorm.weight\n",
      "INFO:allennlp.nn.initializers:   _text_field_embedder.token_embedder_bert.bert_model.encoder.layer.11.attention.output.dense.bias\n",
      "INFO:allennlp.nn.initializers:   _text_field_embedder.token_embedder_bert.bert_model.encoder.layer.11.attention.output.dense.weight\n",
      "INFO:allennlp.nn.initializers:   _text_field_embedder.token_embedder_bert.bert_model.encoder.layer.11.attention.self.key.bias\n",
      "INFO:allennlp.nn.initializers:   _text_field_embedder.token_embedder_bert.bert_model.encoder.layer.11.attention.self.key.weight\n",
      "INFO:allennlp.nn.initializers:   _text_field_embedder.token_embedder_bert.bert_model.encoder.layer.11.attention.self.query.bias\n",
      "INFO:allennlp.nn.initializers:   _text_field_embedder.token_embedder_bert.bert_model.encoder.layer.11.attention.self.query.weight\n",
      "INFO:allennlp.nn.initializers:   _text_field_embedder.token_embedder_bert.bert_model.encoder.layer.11.attention.self.value.bias\n",
      "INFO:allennlp.nn.initializers:   _text_field_embedder.token_embedder_bert.bert_model.encoder.layer.11.attention.self.value.weight\n",
      "INFO:allennlp.nn.initializers:   _text_field_embedder.token_embedder_bert.bert_model.encoder.layer.11.intermediate.dense.bias\n",
      "INFO:allennlp.nn.initializers:   _text_field_embedder.token_embedder_bert.bert_model.encoder.layer.11.intermediate.dense.weight\n",
      "INFO:allennlp.nn.initializers:   _text_field_embedder.token_embedder_bert.bert_model.encoder.layer.11.output.LayerNorm.bias\n",
      "INFO:allennlp.nn.initializers:   _text_field_embedder.token_embedder_bert.bert_model.encoder.layer.11.output.LayerNorm.weight\n",
      "INFO:allennlp.nn.initializers:   _text_field_embedder.token_embedder_bert.bert_model.encoder.layer.11.output.dense.bias\n",
      "INFO:allennlp.nn.initializers:   _text_field_embedder.token_embedder_bert.bert_model.encoder.layer.11.output.dense.weight\n",
      "INFO:allennlp.nn.initializers:   _text_field_embedder.token_embedder_bert.bert_model.encoder.layer.2.attention.output.LayerNorm.bias\n",
      "INFO:allennlp.nn.initializers:   _text_field_embedder.token_embedder_bert.bert_model.encoder.layer.2.attention.output.LayerNorm.weight\n",
      "INFO:allennlp.nn.initializers:   _text_field_embedder.token_embedder_bert.bert_model.encoder.layer.2.attention.output.dense.bias\n",
      "INFO:allennlp.nn.initializers:   _text_field_embedder.token_embedder_bert.bert_model.encoder.layer.2.attention.output.dense.weight\n",
      "INFO:allennlp.nn.initializers:   _text_field_embedder.token_embedder_bert.bert_model.encoder.layer.2.attention.self.key.bias\n",
      "INFO:allennlp.nn.initializers:   _text_field_embedder.token_embedder_bert.bert_model.encoder.layer.2.attention.self.key.weight\n",
      "INFO:allennlp.nn.initializers:   _text_field_embedder.token_embedder_bert.bert_model.encoder.layer.2.attention.self.query.bias\n",
      "INFO:allennlp.nn.initializers:   _text_field_embedder.token_embedder_bert.bert_model.encoder.layer.2.attention.self.query.weight\n",
      "INFO:allennlp.nn.initializers:   _text_field_embedder.token_embedder_bert.bert_model.encoder.layer.2.attention.self.value.bias\n",
      "INFO:allennlp.nn.initializers:   _text_field_embedder.token_embedder_bert.bert_model.encoder.layer.2.attention.self.value.weight\n",
      "INFO:allennlp.nn.initializers:   _text_field_embedder.token_embedder_bert.bert_model.encoder.layer.2.intermediate.dense.bias\n",
      "INFO:allennlp.nn.initializers:   _text_field_embedder.token_embedder_bert.bert_model.encoder.layer.2.intermediate.dense.weight\n",
      "INFO:allennlp.nn.initializers:   _text_field_embedder.token_embedder_bert.bert_model.encoder.layer.2.output.LayerNorm.bias\n",
      "INFO:allennlp.nn.initializers:   _text_field_embedder.token_embedder_bert.bert_model.encoder.layer.2.output.LayerNorm.weight\n",
      "INFO:allennlp.nn.initializers:   _text_field_embedder.token_embedder_bert.bert_model.encoder.layer.2.output.dense.bias\n",
      "INFO:allennlp.nn.initializers:   _text_field_embedder.token_embedder_bert.bert_model.encoder.layer.2.output.dense.weight\n",
      "INFO:allennlp.nn.initializers:   _text_field_embedder.token_embedder_bert.bert_model.encoder.layer.3.attention.output.LayerNorm.bias\n",
      "INFO:allennlp.nn.initializers:   _text_field_embedder.token_embedder_bert.bert_model.encoder.layer.3.attention.output.LayerNorm.weight\n",
      "INFO:allennlp.nn.initializers:   _text_field_embedder.token_embedder_bert.bert_model.encoder.layer.3.attention.output.dense.bias\n",
      "INFO:allennlp.nn.initializers:   _text_field_embedder.token_embedder_bert.bert_model.encoder.layer.3.attention.output.dense.weight\n",
      "INFO:allennlp.nn.initializers:   _text_field_embedder.token_embedder_bert.bert_model.encoder.layer.3.attention.self.key.bias\n",
      "INFO:allennlp.nn.initializers:   _text_field_embedder.token_embedder_bert.bert_model.encoder.layer.3.attention.self.key.weight\n",
      "INFO:allennlp.nn.initializers:   _text_field_embedder.token_embedder_bert.bert_model.encoder.layer.3.attention.self.query.bias\n",
      "INFO:allennlp.nn.initializers:   _text_field_embedder.token_embedder_bert.bert_model.encoder.layer.3.attention.self.query.weight\n",
      "INFO:allennlp.nn.initializers:   _text_field_embedder.token_embedder_bert.bert_model.encoder.layer.3.attention.self.value.bias\n",
      "INFO:allennlp.nn.initializers:   _text_field_embedder.token_embedder_bert.bert_model.encoder.layer.3.attention.self.value.weight\n",
      "INFO:allennlp.nn.initializers:   _text_field_embedder.token_embedder_bert.bert_model.encoder.layer.3.intermediate.dense.bias\n",
      "INFO:allennlp.nn.initializers:   _text_field_embedder.token_embedder_bert.bert_model.encoder.layer.3.intermediate.dense.weight\n",
      "INFO:allennlp.nn.initializers:   _text_field_embedder.token_embedder_bert.bert_model.encoder.layer.3.output.LayerNorm.bias\n",
      "INFO:allennlp.nn.initializers:   _text_field_embedder.token_embedder_bert.bert_model.encoder.layer.3.output.LayerNorm.weight\n",
      "INFO:allennlp.nn.initializers:   _text_field_embedder.token_embedder_bert.bert_model.encoder.layer.3.output.dense.bias\n",
      "INFO:allennlp.nn.initializers:   _text_field_embedder.token_embedder_bert.bert_model.encoder.layer.3.output.dense.weight\n",
      "INFO:allennlp.nn.initializers:   _text_field_embedder.token_embedder_bert.bert_model.encoder.layer.4.attention.output.LayerNorm.bias\n",
      "INFO:allennlp.nn.initializers:   _text_field_embedder.token_embedder_bert.bert_model.encoder.layer.4.attention.output.LayerNorm.weight\n",
      "INFO:allennlp.nn.initializers:   _text_field_embedder.token_embedder_bert.bert_model.encoder.layer.4.attention.output.dense.bias\n",
      "INFO:allennlp.nn.initializers:   _text_field_embedder.token_embedder_bert.bert_model.encoder.layer.4.attention.output.dense.weight\n",
      "INFO:allennlp.nn.initializers:   _text_field_embedder.token_embedder_bert.bert_model.encoder.layer.4.attention.self.key.bias\n",
      "INFO:allennlp.nn.initializers:   _text_field_embedder.token_embedder_bert.bert_model.encoder.layer.4.attention.self.key.weight\n",
      "INFO:allennlp.nn.initializers:   _text_field_embedder.token_embedder_bert.bert_model.encoder.layer.4.attention.self.query.bias\n",
      "INFO:allennlp.nn.initializers:   _text_field_embedder.token_embedder_bert.bert_model.encoder.layer.4.attention.self.query.weight\n",
      "INFO:allennlp.nn.initializers:   _text_field_embedder.token_embedder_bert.bert_model.encoder.layer.4.attention.self.value.bias\n",
      "INFO:allennlp.nn.initializers:   _text_field_embedder.token_embedder_bert.bert_model.encoder.layer.4.attention.self.value.weight\n",
      "INFO:allennlp.nn.initializers:   _text_field_embedder.token_embedder_bert.bert_model.encoder.layer.4.intermediate.dense.bias\n",
      "INFO:allennlp.nn.initializers:   _text_field_embedder.token_embedder_bert.bert_model.encoder.layer.4.intermediate.dense.weight\n",
      "INFO:allennlp.nn.initializers:   _text_field_embedder.token_embedder_bert.bert_model.encoder.layer.4.output.LayerNorm.bias\n",
      "INFO:allennlp.nn.initializers:   _text_field_embedder.token_embedder_bert.bert_model.encoder.layer.4.output.LayerNorm.weight\n",
      "INFO:allennlp.nn.initializers:   _text_field_embedder.token_embedder_bert.bert_model.encoder.layer.4.output.dense.bias\n",
      "INFO:allennlp.nn.initializers:   _text_field_embedder.token_embedder_bert.bert_model.encoder.layer.4.output.dense.weight\n",
      "INFO:allennlp.nn.initializers:   _text_field_embedder.token_embedder_bert.bert_model.encoder.layer.5.attention.output.LayerNorm.bias\n",
      "INFO:allennlp.nn.initializers:   _text_field_embedder.token_embedder_bert.bert_model.encoder.layer.5.attention.output.LayerNorm.weight\n",
      "INFO:allennlp.nn.initializers:   _text_field_embedder.token_embedder_bert.bert_model.encoder.layer.5.attention.output.dense.bias\n",
      "INFO:allennlp.nn.initializers:   _text_field_embedder.token_embedder_bert.bert_model.encoder.layer.5.attention.output.dense.weight\n",
      "INFO:allennlp.nn.initializers:   _text_field_embedder.token_embedder_bert.bert_model.encoder.layer.5.attention.self.key.bias\n",
      "INFO:allennlp.nn.initializers:   _text_field_embedder.token_embedder_bert.bert_model.encoder.layer.5.attention.self.key.weight\n",
      "INFO:allennlp.nn.initializers:   _text_field_embedder.token_embedder_bert.bert_model.encoder.layer.5.attention.self.query.bias\n",
      "INFO:allennlp.nn.initializers:   _text_field_embedder.token_embedder_bert.bert_model.encoder.layer.5.attention.self.query.weight\n",
      "INFO:allennlp.nn.initializers:   _text_field_embedder.token_embedder_bert.bert_model.encoder.layer.5.attention.self.value.bias\n",
      "INFO:allennlp.nn.initializers:   _text_field_embedder.token_embedder_bert.bert_model.encoder.layer.5.attention.self.value.weight\n",
      "INFO:allennlp.nn.initializers:   _text_field_embedder.token_embedder_bert.bert_model.encoder.layer.5.intermediate.dense.bias\n",
      "INFO:allennlp.nn.initializers:   _text_field_embedder.token_embedder_bert.bert_model.encoder.layer.5.intermediate.dense.weight\n",
      "INFO:allennlp.nn.initializers:   _text_field_embedder.token_embedder_bert.bert_model.encoder.layer.5.output.LayerNorm.bias\n",
      "INFO:allennlp.nn.initializers:   _text_field_embedder.token_embedder_bert.bert_model.encoder.layer.5.output.LayerNorm.weight\n",
      "INFO:allennlp.nn.initializers:   _text_field_embedder.token_embedder_bert.bert_model.encoder.layer.5.output.dense.bias\n",
      "INFO:allennlp.nn.initializers:   _text_field_embedder.token_embedder_bert.bert_model.encoder.layer.5.output.dense.weight\n",
      "INFO:allennlp.nn.initializers:   _text_field_embedder.token_embedder_bert.bert_model.encoder.layer.6.attention.output.LayerNorm.bias\n",
      "INFO:allennlp.nn.initializers:   _text_field_embedder.token_embedder_bert.bert_model.encoder.layer.6.attention.output.LayerNorm.weight\n",
      "INFO:allennlp.nn.initializers:   _text_field_embedder.token_embedder_bert.bert_model.encoder.layer.6.attention.output.dense.bias\n",
      "INFO:allennlp.nn.initializers:   _text_field_embedder.token_embedder_bert.bert_model.encoder.layer.6.attention.output.dense.weight\n",
      "INFO:allennlp.nn.initializers:   _text_field_embedder.token_embedder_bert.bert_model.encoder.layer.6.attention.self.key.bias\n",
      "INFO:allennlp.nn.initializers:   _text_field_embedder.token_embedder_bert.bert_model.encoder.layer.6.attention.self.key.weight\n",
      "INFO:allennlp.nn.initializers:   _text_field_embedder.token_embedder_bert.bert_model.encoder.layer.6.attention.self.query.bias\n",
      "INFO:allennlp.nn.initializers:   _text_field_embedder.token_embedder_bert.bert_model.encoder.layer.6.attention.self.query.weight\n",
      "INFO:allennlp.nn.initializers:   _text_field_embedder.token_embedder_bert.bert_model.encoder.layer.6.attention.self.value.bias\n",
      "INFO:allennlp.nn.initializers:   _text_field_embedder.token_embedder_bert.bert_model.encoder.layer.6.attention.self.value.weight\n",
      "INFO:allennlp.nn.initializers:   _text_field_embedder.token_embedder_bert.bert_model.encoder.layer.6.intermediate.dense.bias\n",
      "INFO:allennlp.nn.initializers:   _text_field_embedder.token_embedder_bert.bert_model.encoder.layer.6.intermediate.dense.weight\n",
      "INFO:allennlp.nn.initializers:   _text_field_embedder.token_embedder_bert.bert_model.encoder.layer.6.output.LayerNorm.bias\n",
      "INFO:allennlp.nn.initializers:   _text_field_embedder.token_embedder_bert.bert_model.encoder.layer.6.output.LayerNorm.weight\n",
      "INFO:allennlp.nn.initializers:   _text_field_embedder.token_embedder_bert.bert_model.encoder.layer.6.output.dense.bias\n",
      "INFO:allennlp.nn.initializers:   _text_field_embedder.token_embedder_bert.bert_model.encoder.layer.6.output.dense.weight\n",
      "INFO:allennlp.nn.initializers:   _text_field_embedder.token_embedder_bert.bert_model.encoder.layer.7.attention.output.LayerNorm.bias\n",
      "INFO:allennlp.nn.initializers:   _text_field_embedder.token_embedder_bert.bert_model.encoder.layer.7.attention.output.LayerNorm.weight\n",
      "INFO:allennlp.nn.initializers:   _text_field_embedder.token_embedder_bert.bert_model.encoder.layer.7.attention.output.dense.bias\n",
      "INFO:allennlp.nn.initializers:   _text_field_embedder.token_embedder_bert.bert_model.encoder.layer.7.attention.output.dense.weight\n",
      "INFO:allennlp.nn.initializers:   _text_field_embedder.token_embedder_bert.bert_model.encoder.layer.7.attention.self.key.bias\n",
      "INFO:allennlp.nn.initializers:   _text_field_embedder.token_embedder_bert.bert_model.encoder.layer.7.attention.self.key.weight\n",
      "INFO:allennlp.nn.initializers:   _text_field_embedder.token_embedder_bert.bert_model.encoder.layer.7.attention.self.query.bias\n",
      "INFO:allennlp.nn.initializers:   _text_field_embedder.token_embedder_bert.bert_model.encoder.layer.7.attention.self.query.weight\n",
      "INFO:allennlp.nn.initializers:   _text_field_embedder.token_embedder_bert.bert_model.encoder.layer.7.attention.self.value.bias\n",
      "INFO:allennlp.nn.initializers:   _text_field_embedder.token_embedder_bert.bert_model.encoder.layer.7.attention.self.value.weight\n",
      "INFO:allennlp.nn.initializers:   _text_field_embedder.token_embedder_bert.bert_model.encoder.layer.7.intermediate.dense.bias\n",
      "INFO:allennlp.nn.initializers:   _text_field_embedder.token_embedder_bert.bert_model.encoder.layer.7.intermediate.dense.weight\n",
      "INFO:allennlp.nn.initializers:   _text_field_embedder.token_embedder_bert.bert_model.encoder.layer.7.output.LayerNorm.bias\n",
      "INFO:allennlp.nn.initializers:   _text_field_embedder.token_embedder_bert.bert_model.encoder.layer.7.output.LayerNorm.weight\n",
      "INFO:allennlp.nn.initializers:   _text_field_embedder.token_embedder_bert.bert_model.encoder.layer.7.output.dense.bias\n",
      "INFO:allennlp.nn.initializers:   _text_field_embedder.token_embedder_bert.bert_model.encoder.layer.7.output.dense.weight\n",
      "INFO:allennlp.nn.initializers:   _text_field_embedder.token_embedder_bert.bert_model.encoder.layer.8.attention.output.LayerNorm.bias\n",
      "INFO:allennlp.nn.initializers:   _text_field_embedder.token_embedder_bert.bert_model.encoder.layer.8.attention.output.LayerNorm.weight\n",
      "INFO:allennlp.nn.initializers:   _text_field_embedder.token_embedder_bert.bert_model.encoder.layer.8.attention.output.dense.bias\n",
      "INFO:allennlp.nn.initializers:   _text_field_embedder.token_embedder_bert.bert_model.encoder.layer.8.attention.output.dense.weight\n",
      "INFO:allennlp.nn.initializers:   _text_field_embedder.token_embedder_bert.bert_model.encoder.layer.8.attention.self.key.bias\n",
      "INFO:allennlp.nn.initializers:   _text_field_embedder.token_embedder_bert.bert_model.encoder.layer.8.attention.self.key.weight\n",
      "INFO:allennlp.nn.initializers:   _text_field_embedder.token_embedder_bert.bert_model.encoder.layer.8.attention.self.query.bias\n",
      "INFO:allennlp.nn.initializers:   _text_field_embedder.token_embedder_bert.bert_model.encoder.layer.8.attention.self.query.weight\n",
      "INFO:allennlp.nn.initializers:   _text_field_embedder.token_embedder_bert.bert_model.encoder.layer.8.attention.self.value.bias\n",
      "INFO:allennlp.nn.initializers:   _text_field_embedder.token_embedder_bert.bert_model.encoder.layer.8.attention.self.value.weight\n",
      "INFO:allennlp.nn.initializers:   _text_field_embedder.token_embedder_bert.bert_model.encoder.layer.8.intermediate.dense.bias\n",
      "INFO:allennlp.nn.initializers:   _text_field_embedder.token_embedder_bert.bert_model.encoder.layer.8.intermediate.dense.weight\n",
      "INFO:allennlp.nn.initializers:   _text_field_embedder.token_embedder_bert.bert_model.encoder.layer.8.output.LayerNorm.bias\n",
      "INFO:allennlp.nn.initializers:   _text_field_embedder.token_embedder_bert.bert_model.encoder.layer.8.output.LayerNorm.weight\n",
      "INFO:allennlp.nn.initializers:   _text_field_embedder.token_embedder_bert.bert_model.encoder.layer.8.output.dense.bias\n",
      "INFO:allennlp.nn.initializers:   _text_field_embedder.token_embedder_bert.bert_model.encoder.layer.8.output.dense.weight\n",
      "INFO:allennlp.nn.initializers:   _text_field_embedder.token_embedder_bert.bert_model.encoder.layer.9.attention.output.LayerNorm.bias\n",
      "INFO:allennlp.nn.initializers:   _text_field_embedder.token_embedder_bert.bert_model.encoder.layer.9.attention.output.LayerNorm.weight\n",
      "INFO:allennlp.nn.initializers:   _text_field_embedder.token_embedder_bert.bert_model.encoder.layer.9.attention.output.dense.bias\n",
      "INFO:allennlp.nn.initializers:   _text_field_embedder.token_embedder_bert.bert_model.encoder.layer.9.attention.output.dense.weight\n",
      "INFO:allennlp.nn.initializers:   _text_field_embedder.token_embedder_bert.bert_model.encoder.layer.9.attention.self.key.bias\n",
      "INFO:allennlp.nn.initializers:   _text_field_embedder.token_embedder_bert.bert_model.encoder.layer.9.attention.self.key.weight\n",
      "INFO:allennlp.nn.initializers:   _text_field_embedder.token_embedder_bert.bert_model.encoder.layer.9.attention.self.query.bias\n",
      "INFO:allennlp.nn.initializers:   _text_field_embedder.token_embedder_bert.bert_model.encoder.layer.9.attention.self.query.weight\n",
      "INFO:allennlp.nn.initializers:   _text_field_embedder.token_embedder_bert.bert_model.encoder.layer.9.attention.self.value.bias\n",
      "INFO:allennlp.nn.initializers:   _text_field_embedder.token_embedder_bert.bert_model.encoder.layer.9.attention.self.value.weight\n",
      "INFO:allennlp.nn.initializers:   _text_field_embedder.token_embedder_bert.bert_model.encoder.layer.9.intermediate.dense.bias\n",
      "INFO:allennlp.nn.initializers:   _text_field_embedder.token_embedder_bert.bert_model.encoder.layer.9.intermediate.dense.weight\n",
      "INFO:allennlp.nn.initializers:   _text_field_embedder.token_embedder_bert.bert_model.encoder.layer.9.output.LayerNorm.bias\n",
      "INFO:allennlp.nn.initializers:   _text_field_embedder.token_embedder_bert.bert_model.encoder.layer.9.output.LayerNorm.weight\n",
      "INFO:allennlp.nn.initializers:   _text_field_embedder.token_embedder_bert.bert_model.encoder.layer.9.output.dense.bias\n",
      "INFO:allennlp.nn.initializers:   _text_field_embedder.token_embedder_bert.bert_model.encoder.layer.9.output.dense.weight\n",
      "INFO:allennlp.nn.initializers:   _text_field_embedder.token_embedder_bert.bert_model.pooler.dense.bias\n",
      "INFO:allennlp.nn.initializers:   _text_field_embedder.token_embedder_bert.bert_model.pooler.dense.weight\n",
      "INFO:allennlp.nn.initializers:   qa_outputs.bias\n",
      "INFO:allennlp.nn.initializers:   qa_outputs.weight\n",
      "INFO:allennlp.common.from_params:instantiating class <class 'allennlp.data.dataset_readers.dataset_reader.DatasetReader'> from params {'is_training': True, 'lazy': True, 'sample_size': 75000, 'token_indexers': {'bert': {'do_lowercase': True, 'pretrained_model': 'bert-base-uncased', 'type': 'bert-pretrained', 'use_starting_offsets': True}}, 'type': 'mrqa_reader'} and extras set()\n",
      "INFO:allennlp.common.params:dataset_reader.type = mrqa_reader\n",
      "INFO:allennlp.common.from_params:instantiating class <class 'errudite.predictors.qa.mrqa_allennlp.mrqa_reader.MRQAReader'> from params {'is_training': True, 'lazy': True, 'sample_size': 75000, 'token_indexers': {'bert': {'do_lowercase': True, 'pretrained_model': 'bert-base-uncased', 'type': 'bert-pretrained', 'use_starting_offsets': True}}} and extras set()\n",
      "INFO:allennlp.common.from_params:instantiating class allennlp.data.token_indexers.token_indexer.TokenIndexer from params {'do_lowercase': True, 'pretrained_model': 'bert-base-uncased', 'type': 'bert-pretrained', 'use_starting_offsets': True} and extras set()\n",
      "INFO:allennlp.common.params:dataset_reader.token_indexers.bert.type = bert-pretrained\n",
      "INFO:allennlp.common.from_params:instantiating class allennlp.data.token_indexers.wordpiece_indexer.PretrainedBertIndexer from params {'do_lowercase': True, 'pretrained_model': 'bert-base-uncased', 'use_starting_offsets': True} and extras set()\n",
      "INFO:allennlp.common.params:dataset_reader.token_indexers.bert.pretrained_model = bert-base-uncased\n",
      "INFO:allennlp.common.params:dataset_reader.token_indexers.bert.use_starting_offsets = True\n",
      "INFO:allennlp.common.params:dataset_reader.token_indexers.bert.do_lowercase = True\n",
      "INFO:allennlp.common.params:dataset_reader.token_indexers.bert.never_lowercase = None\n",
      "INFO:allennlp.common.params:dataset_reader.token_indexers.bert.max_pieces = 512\n",
      "INFO:allennlp.common.params:dataset_reader.token_indexers.bert.truncate_long_sequences = True\n",
      "INFO:pytorch_pretrained_bert.tokenization:loading vocabulary file https://s3.amazonaws.com/models.huggingface.co/bert/bert-base-uncased-vocab.txt from cache at /Users/tongshuangwu/.pytorch_pretrained_bert/26bc1ad6c0ac742e9b52263248f6d0f00068293b33709fae12320c0e35ccfbbb.542ce4285a40d23a559526243235df47c5f75c197f04f37d1a0c124c32c9a084\n",
      "INFO:allennlp.common.params:dataset_reader.dataset_weight = None\n",
      "INFO:allennlp.common.params:dataset_reader.lazy = True\n",
      "INFO:allennlp.common.params:dataset_reader.is_training = True\n",
      "INFO:allennlp.common.params:dataset_reader.sample_size = 75000\n",
      "INFO:allennlp.common.params:dataset_reader.STRIDE = 128\n",
      "INFO:allennlp.common.params:dataset_reader.MAX_WORDPIECES = 512\n",
      "INFO:pytorch_pretrained_bert.tokenization:loading vocabulary file https://s3.amazonaws.com/models.huggingface.co/bert/bert-base-uncased-vocab.txt from cache at /Users/tongshuangwu/.pytorch_pretrained_bert/26bc1ad6c0ac742e9b52263248f6d0f00068293b33709fae12320c0e35ccfbbb.542ce4285a40d23a559526243235df47c5f75c197f04f37d1a0c124c32c9a084\n"
     ]
    }
   ],
   "source": [
    "import glob, os\n",
    "\n",
    "import errudite\n",
    "from errudite.io import DatasetReader\n",
    "from errudite.predictors import Predictor\n",
    "from errudite.targets.instance import Instance\n",
    "from errudite.targets.label import Label\n",
    "from errudite.utils import accuracy_score, normalize_file_path\n",
    "\n",
    "DATASET_FOLDER = normalize_file_path(\"~/datasets/raw_data/mrqa/in_domain_devs\")\n",
    "sample_size=10\n",
    "file_path = \",\".join(glob.glob(os.path.join(DATASET_FOLDER, \"*.jsonl.gz\")))\n",
    "reader = DatasetReader.by_name(\"mrqa\")(\n",
    "    cache_folder_path=f\"~/datasets/caches/dataset_debug/mrqa-{sample_size}\")\n",
    "instances = reader.read(file_path, sample_size=sample_size)\n",
    "\n",
    "MODEL_FOLDER = normalize_file_path(\"~/datasets/models/mrqa/\")\n",
    "predictor = Predictor.by_name(\"mrqa\")(\n",
    "    name=\"mrqa_path\", \n",
    "    model_path=os.path.join(MODEL_FOLDER, \"mrqa_bert_base.gz\"))"
   ]
  },
  {
   "cell_type": "code",
   "execution_count": 7,
   "metadata": {},
   "outputs": [
    {
     "data": {
      "text/plain": [
       "{'dataset': 'NaturalQuestionsShort', 'domain': 'in'}"
      ]
     },
     "execution_count": 7,
     "metadata": {},
     "output_type": "execute_result"
    }
   ],
   "source": [
    "instances[0].question.metas"
   ]
  },
  {
   "cell_type": "code",
   "execution_count": 3,
   "metadata": {
    "scrolled": true
   },
   "outputs": [
    {
     "name": "stderr",
     "output_type": "stream",
     "text": [
      "INFO:__main__:Running predictions....\n",
      "  0%|          | 0/10 [00:00<?, ?it/s]WARNING:allennlp.models.model:Encountered the loss key in the model's return dictionary which couldn't be split by the batch size. Key will be ignored.\n",
      " 10%|█         | 1/10 [00:12<01:53, 12.64s/it]"
     ]
    },
    {
     "name": "stdout",
     "output_type": "stream",
     "text": [
      "[{'best_span_str': 'acid', 'qid': 'tmp', 'best_span_logit': 8.56551742553711, 'char_offsets': [2476, 2480]}, {'best_span_str': 'acid', 'qid': 'tmp', 'best_span_logit': 8.56551742553711, 'char_offsets': [2476, 2480]}, {'best_span_str': 'acid', 'qid': 'tmp', 'best_span_logit': 8.56551742553711, 'char_offsets': [2476, 2480]}, {'best_span_str': 'acid', 'qid': 'tmp', 'best_span_logit': 8.56551742553711, 'char_offsets': [2476, 2480]}]\n"
     ]
    },
    {
     "name": "stderr",
     "output_type": "stream",
     "text": [
      " 20%|██        | 2/10 [00:27<01:46, 13.29s/it]"
     ]
    },
    {
     "name": "stdout",
     "output_type": "stream",
     "text": [
      "[{'best_span_str': '1927', 'qid': 'tmp', 'best_span_logit': 10.251514434814453, 'char_offsets': [26, 30]}, {'best_span_str': '1927', 'qid': 'tmp', 'best_span_logit': 10.251514434814453, 'char_offsets': [26, 30]}, {'best_span_str': '1927', 'qid': 'tmp', 'best_span_logit': 10.251514434814453, 'char_offsets': [26, 30]}, {'best_span_str': '1927', 'qid': 'tmp', 'best_span_logit': 10.251514434814453, 'char_offsets': [26, 30]}]\n"
     ]
    },
    {
     "name": "stderr",
     "output_type": "stream",
     "text": [
      " 30%|███       | 3/10 [00:42<01:35, 13.70s/it]"
     ]
    },
    {
     "name": "stdout",
     "output_type": "stream",
     "text": [
      "[{'best_span_str': 'Schweik', 'qid': 'tmp', 'best_span_logit': 7.422807693481445, 'char_offsets': [2083, 2090]}, {'best_span_str': 'Schweik', 'qid': 'tmp', 'best_span_logit': 7.422807693481445, 'char_offsets': [2083, 2090]}, {'best_span_str': 'Schweik', 'qid': 'tmp', 'best_span_logit': 7.422807693481445, 'char_offsets': [2083, 2090]}, {'best_span_str': 'Schweik', 'qid': 'tmp', 'best_span_logit': 7.422807693481445, 'char_offsets': [2083, 2090]}]\n"
     ]
    },
    {
     "name": "stderr",
     "output_type": "stream",
     "text": [
      " 40%|████      | 4/10 [00:56<01:23, 13.89s/it]"
     ]
    },
    {
     "name": "stdout",
     "output_type": "stream",
     "text": [
      "[{'best_span_str': 'Jill', 'qid': 'tmp', 'best_span_logit': 10.019155502319336, 'char_offsets': [2348, 2352]}, {'best_span_str': 'Jill', 'qid': 'tmp', 'best_span_logit': 10.019155502319336, 'char_offsets': [2348, 2352]}, {'best_span_str': 'Jill', 'qid': 'tmp', 'best_span_logit': 10.019155502319336, 'char_offsets': [2348, 2352]}, {'best_span_str': 'Jill', 'qid': 'tmp', 'best_span_logit': 10.019155502319336, 'char_offsets': [2348, 2352]}]\n"
     ]
    },
    {
     "name": "stderr",
     "output_type": "stream",
     "text": [
      " 50%|█████     | 5/10 [01:11<01:10, 14.16s/it]"
     ]
    },
    {
     "name": "stdout",
     "output_type": "stream",
     "text": [
      "[{'best_span_str': 'Schweik', 'qid': 'tmp', 'best_span_logit': 6.424346923828125, 'char_offsets': [3113, 3120]}, {'best_span_str': 'Schweik', 'qid': 'tmp', 'best_span_logit': 6.424346923828125, 'char_offsets': [3113, 3120]}, {'best_span_str': 'Schweik', 'qid': 'tmp', 'best_span_logit': 6.424346923828125, 'char_offsets': [3113, 3120]}, {'best_span_str': 'Schweik', 'qid': 'tmp', 'best_span_logit': 6.424346923828125, 'char_offsets': [3113, 3120]}]\n"
     ]
    },
    {
     "name": "stderr",
     "output_type": "stream",
     "text": [
      " 60%|██████    | 6/10 [01:25<00:56, 14.20s/it]"
     ]
    },
    {
     "name": "stdout",
     "output_type": "stream",
     "text": [
      "[{'best_span_str': '36', 'qid': 'tmp', 'best_span_logit': 10.423604965209961, 'char_offsets': [3804, 3806]}, {'best_span_str': '36', 'qid': 'tmp', 'best_span_logit': 10.423604965209961, 'char_offsets': [3804, 3806]}, {'best_span_str': '36', 'qid': 'tmp', 'best_span_logit': 10.423604965209961, 'char_offsets': [3804, 3806]}, {'best_span_str': '36', 'qid': 'tmp', 'best_span_logit': 10.423604965209961, 'char_offsets': [3804, 3806]}]\n"
     ]
    },
    {
     "name": "stderr",
     "output_type": "stream",
     "text": [
      " 70%|███████   | 7/10 [01:37<00:40, 13.47s/it]"
     ]
    },
    {
     "name": "stdout",
     "output_type": "stream",
     "text": [
      "[{'best_span_str': 'Liza Merril', 'qid': 'tmp', 'best_span_logit': 12.780729293823242, 'char_offsets': [472, 483]}, {'best_span_str': 'Liza Merril', 'qid': 'tmp', 'best_span_logit': 12.780729293823242, 'char_offsets': [472, 483]}, {'best_span_str': 'Liza Merril', 'qid': 'tmp', 'best_span_logit': 12.780729293823242, 'char_offsets': [472, 483]}, {'best_span_str': 'Liza Merril', 'qid': 'tmp', 'best_span_logit': 12.780729293823242, 'char_offsets': [472, 483]}]\n"
     ]
    },
    {
     "name": "stderr",
     "output_type": "stream",
     "text": [
      " 80%|████████  | 8/10 [01:50<00:26, 13.47s/it]"
     ]
    },
    {
     "name": "stdout",
     "output_type": "stream",
     "text": [
      "[{'best_span_str': 'Wart', 'qid': 'tmp', 'best_span_logit': 7.729559898376465, 'char_offsets': [658, 662]}, {'best_span_str': 'Wart', 'qid': 'tmp', 'best_span_logit': 7.729559898376465, 'char_offsets': [658, 662]}, {'best_span_str': 'Wart', 'qid': 'tmp', 'best_span_logit': 7.729559898376465, 'char_offsets': [658, 662]}, {'best_span_str': 'Wart', 'qid': 'tmp', 'best_span_logit': 7.729559898376465, 'char_offsets': [658, 662]}]\n"
     ]
    },
    {
     "name": "stderr",
     "output_type": "stream",
     "text": [
      " 90%|█████████ | 9/10 [02:02<00:12, 12.86s/it]"
     ]
    },
    {
     "name": "stdout",
     "output_type": "stream",
     "text": [
      "[{'best_span_str': 'Sir Pelinore', 'qid': 'tmp', 'best_span_logit': 8.468249320983887, 'char_offsets': [1464, 1476]}, {'best_span_str': 'Sir Pelinore', 'qid': 'tmp', 'best_span_logit': 8.468249320983887, 'char_offsets': [1464, 1476]}, {'best_span_str': 'Sir Pelinore', 'qid': 'tmp', 'best_span_logit': 8.468249320983887, 'char_offsets': [1464, 1476]}, {'best_span_str': 'Sir Pelinore', 'qid': 'tmp', 'best_span_logit': 8.468249320983887, 'char_offsets': [1464, 1476]}]\n"
     ]
    },
    {
     "name": "stderr",
     "output_type": "stream",
     "text": [
      "100%|██████████| 10/10 [02:13<00:00, 12.25s/it]"
     ]
    },
    {
     "name": "stdout",
     "output_type": "stream",
     "text": [
      "[{'best_span_str': 'London town', 'qid': 'tmp', 'best_span_logit': 7.203769683837891, 'char_offsets': [221, 232]}, {'best_span_str': 'London town', 'qid': 'tmp', 'best_span_logit': 7.203769683837891, 'char_offsets': [221, 232]}, {'best_span_str': 'London town', 'qid': 'tmp', 'best_span_logit': 7.203769683837891, 'char_offsets': [221, 232]}, {'best_span_str': 'London town', 'qid': 'tmp', 'best_span_logit': 7.203769683837891, 'char_offsets': [221, 232]}]\n",
      "         f1  predictor\n",
      "0  0.557143  mrqa_path\n"
     ]
    },
    {
     "name": "stderr",
     "output_type": "stream",
     "text": [
      "\n"
     ]
    },
    {
     "data": {
      "text/plain": [
       "({InstanceKey(qid='d94a42693350473581ff79dc91c91e04', vid=0): Instance [InstanceKey(qid='d94a42693350473581ff79dc91c91e04', vid=0)],\n",
       "  InstanceKey(qid='f41dbe24bed44870a8ad36c87dda59a2', vid=0): Instance [InstanceKey(qid='f41dbe24bed44870a8ad36c87dda59a2', vid=0)],\n",
       "  InstanceKey(qid='34f8093a16b64c8097bdaa03cccdef37', vid=0): Instance [InstanceKey(qid='34f8093a16b64c8097bdaa03cccdef37', vid=0)],\n",
       "  InstanceKey(qid='b6a13cac6289435697e8ff98d55854a9', vid=0): Instance [InstanceKey(qid='b6a13cac6289435697e8ff98d55854a9', vid=0)],\n",
       "  InstanceKey(qid='52ffe790d24a41669c08a240c1d45114', vid=0): Instance [InstanceKey(qid='52ffe790d24a41669c08a240c1d45114', vid=0)],\n",
       "  InstanceKey(qid='d0d647812b8d47e88327e05abd34c492', vid=0): Instance [InstanceKey(qid='d0d647812b8d47e88327e05abd34c492', vid=0)],\n",
       "  InstanceKey(qid='5e54f1fb51b34d5c91636ca9a1d3518a', vid=0): Instance [InstanceKey(qid='5e54f1fb51b34d5c91636ca9a1d3518a', vid=0)],\n",
       "  InstanceKey(qid='ee477db3268c4a0b8321e3cb971573a7', vid=0): Instance [InstanceKey(qid='ee477db3268c4a0b8321e3cb971573a7', vid=0)],\n",
       "  InstanceKey(qid='14f31e741dc847f99fc5459cbfeb82aa', vid=0): Instance [InstanceKey(qid='14f31e741dc847f99fc5459cbfeb82aa', vid=0)],\n",
       "  InstanceKey(qid='3dd25b201f7a4c57b12fe60dfd5f0c45', vid=0): Instance [InstanceKey(qid='3dd25b201f7a4c57b12fe60dfd5f0c45', vid=0)]},\n",
       " {},\n",
       " defaultdict(list,\n",
       "             {'14f31e741dc847f99fc5459cbfeb82aa': [InstanceKey(qid='14f31e741dc847f99fc5459cbfeb82aa', vid=0)],\n",
       "              '34f8093a16b64c8097bdaa03cccdef37': [InstanceKey(qid='34f8093a16b64c8097bdaa03cccdef37', vid=0)],\n",
       "              '3dd25b201f7a4c57b12fe60dfd5f0c45': [InstanceKey(qid='3dd25b201f7a4c57b12fe60dfd5f0c45', vid=0)],\n",
       "              '52ffe790d24a41669c08a240c1d45114': [InstanceKey(qid='52ffe790d24a41669c08a240c1d45114', vid=0)],\n",
       "              '5e54f1fb51b34d5c91636ca9a1d3518a': [InstanceKey(qid='5e54f1fb51b34d5c91636ca9a1d3518a', vid=0)],\n",
       "              'b6a13cac6289435697e8ff98d55854a9': [InstanceKey(qid='b6a13cac6289435697e8ff98d55854a9', vid=0)],\n",
       "              'd0d647812b8d47e88327e05abd34c492': [InstanceKey(qid='d0d647812b8d47e88327e05abd34c492', vid=0)],\n",
       "              'd94a42693350473581ff79dc91c91e04': [InstanceKey(qid='d94a42693350473581ff79dc91c91e04', vid=0)],\n",
       "              'ee477db3268c4a0b8321e3cb971573a7': [InstanceKey(qid='ee477db3268c4a0b8321e3cb971573a7', vid=0)],\n",
       "              'f41dbe24bed44870a8ad36c87dda59a2': [InstanceKey(qid='f41dbe24bed44870a8ad36c87dda59a2', vid=0)]}))"
      ]
     },
     "execution_count": 3,
     "metadata": {},
     "output_type": "execute_result"
    }
   ],
   "source": [
    "import pandas as pd\n",
    "from tqdm import tqdm\n",
    "predictors = { p.name: p for p in [predictor] }\n",
    "predictions = { p: [] for p in predictors }\n",
    "logger.info(\"Running predictions....\")\n",
    "for instance in tqdm(instances):\n",
    "    instance_predictions = []\n",
    "    for predictor in predictors.values():\n",
    "        prediction = Predictor.by_name(\"qa_task_class\").model_predict(\n",
    "            predictor, \n",
    "            instance.question, \n",
    "            instance.context, \n",
    "            instance.groundtruths)\n",
    "        instance_predictions.append(prediction)\n",
    "        #print(prediction.doc, prediction.span_start, prediction.span_end, instance.context)\n",
    "        predictions[predictor.name].append(prediction)\n",
    "    instance.set_entries(predictions=instance_predictions)\n",
    "for predictor in predictors.values():\n",
    "    predictor.evaluate_performance(instances)\n",
    "print(pd.DataFrame([ {\"predictor\": p.name, \"f1\": p.perform[\"f1\"] } for p in predictors.values() ]))\n",
    "Instance.build_instance_hashes(instances)"
   ]
  },
  {
   "cell_type": "code",
   "execution_count": 4,
   "metadata": {},
   "outputs": [
    {
     "name": "stdout",
     "output_type": "stream",
     "text": [
      "         f1  predictor\n",
      "0  0.557143  mrqa_path\n"
     ]
    },
    {
     "name": "stderr",
     "output_type": "stream",
     "text": [
      "[autoreload of errudite.predictors.qa.mrqa_allennlp.mrqa_predictor failed: Traceback (most recent call last):\n",
      "  File \"/Users/tongshuangwu/sourcetree/errudite_dataset_debug/venv/lib/python3.6/site-packages/IPython/extensions/autoreload.py\", line 245, in check\n",
      "    superreload(m, reload, self.old_objects)\n",
      "  File \"/Users/tongshuangwu/sourcetree/errudite_dataset_debug/venv/lib/python3.6/site-packages/IPython/extensions/autoreload.py\", line 434, in superreload\n",
      "    module = reload(module)\n",
      "  File \"/Users/tongshuangwu/sourcetree/errudite_dataset_debug/venv/lib/python3.6/imp.py\", line 315, in reload\n",
      "    return importlib.reload(module)\n",
      "  File \"/Users/tongshuangwu/sourcetree/errudite_dataset_debug/venv/lib/python3.6/importlib/__init__.py\", line 166, in reload\n",
      "    _bootstrap._exec(spec, module)\n",
      "  File \"<frozen importlib._bootstrap>\", line 618, in _exec\n",
      "  File \"<frozen importlib._bootstrap_external>\", line 678, in exec_module\n",
      "  File \"<frozen importlib._bootstrap>\", line 219, in _call_with_frames_removed\n",
      "  File \"../errudite/predictors/qa/mrqa_allennlp/mrqa_predictor.py\", line 7, in <module>\n",
      "    class MRQAPredictor(AllenPredictor):\n",
      "  File \"/Users/tongshuangwu/sourcetree/errudite_dataset_debug/venv/lib/python3.6/site-packages/allennlp/common/registrable.py\", line 49, in add_subclass_to_registry\n",
      "    raise ConfigurationError(message)\n",
      "allennlp.common.checks.ConfigurationError: 'Cannot register mrqa_predictor as Predictor; name already in use for MRQAPredictor'\n",
      "]\n"
     ]
    }
   ],
   "source": [
    "for predictor in predictors.values():\n",
    "    predictor.evaluate_performance(instances)\n",
    "print(pd.DataFrame([ {\"predictor\": p.name, \"f1\": p.perform[\"f1\"] } for p in predictors.values() ]))"
   ]
  },
  {
   "cell_type": "code",
   "execution_count": null,
   "metadata": {},
   "outputs": [],
   "source": [
    "import pandas as pd\n",
    "pd.DataFrame([ {\"predictor\": p.name, \"f1\": p.perform[\"f1\"] } for p in predictors.values() ])"
   ]
  },
  {
   "cell_type": "code",
   "execution_count": null,
   "metadata": {
    "scrolled": true
   },
   "outputs": [],
   "source": [
    "TRAIN_DATASET_FOLDER = normalize_file_path(\"~/datasets/raw_data/mrqa/trains\")\n",
    "sample_size=100\n",
    "file_path = \",\".join(glob.glob(os.path.join(DATASET_FOLDER, \"*.jsonl.gz\"))[:2])\n",
    "reader.count_vocab_freq(file_path)"
   ]
  },
  {
   "cell_type": "code",
   "execution_count": null,
   "metadata": {},
   "outputs": [],
   "source": []
  }
 ],
 "metadata": {
  "kernelspec": {
   "display_name": "Python 3",
   "language": "python",
   "name": "python3"
  },
  "language_info": {
   "codemirror_mode": {
    "name": "ipython",
    "version": 3
   },
   "file_extension": ".py",
   "mimetype": "text/x-python",
   "name": "python",
   "nbconvert_exporter": "python",
   "pygments_lexer": "ipython3",
   "version": "3.6.5"
  }
 },
 "nbformat": 4,
 "nbformat_minor": 4
}
