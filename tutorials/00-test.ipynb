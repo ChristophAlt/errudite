{
 "cells": [
  {
   "cell_type": "code",
   "execution_count": 1,
   "metadata": {},
   "outputs": [],
   "source": [
    "%load_ext autoreload\n",
    "%autoreload 2\n",
    "\n",
    "import warnings\n",
    "warnings.filterwarnings('ignore')\n",
    "\n",
    "def import_sys():\n",
    "    import sys\n",
    "    sys.path.append('..')\n",
    "import_sys()"
   ]
  },
  {
   "cell_type": "code",
   "execution_count": 2,
   "metadata": {},
   "outputs": [
    {
     "name": "stdout",
     "output_type": "stream",
     "text": [
      "<module 'errudite' from '../errudite/__init__.py'>\n"
     ]
    }
   ],
   "source": [
    "import errudite\n",
    "print(errudite)"
   ]
  },
  {
   "cell_type": "code",
   "execution_count": 3,
   "metadata": {},
   "outputs": [
    {
     "name": "stdout",
     "output_type": "stream",
     "text": [
      "\u001b[38;5;2m✔ Download and installation successful\u001b[0m\n",
      "You can now load the model via spacy.load('en_core_web_sm')\n"
     ]
    },
    {
     "name": "stderr",
     "output_type": "stream",
     "text": [
      "WARNING:errudite.io.file_utils:Local path not yet exist, but still parsed: /Users/tongshuangwu/sourcetree/errudite/tutorials/caches/vocab.pkl\n",
      "WARNING:errudite.processor.spacy_annotator:(2, 'No such file or directory')\n"
     ]
    }
   ],
   "source": [
    "from errudite.build_blocks import PrimFunc"
   ]
  },
  {
   "cell_type": "code",
   "execution_count": 4,
   "metadata": {},
   "outputs": [
    {
     "name": "stderr",
     "output_type": "stream",
     "text": [
      "INFO:errudite.io.file_utils:Errudite cache folder selected: /Users/tongshuangwu/datasets/caches/error_analysis/squad-100/\n",
      "INFO:errudite.io.dataset_reader:Loaded 101 objects to /Users/tongshuangwu/datasets/caches/error_analysis/squad-100/instances.pkl.\n",
      "INFO:errudite.io.dataset_reader:Loaded 101 objects to /Users/tongshuangwu/datasets/caches/error_analysis/squad-100/evaluations/bidaf-baseline.pkl.\n",
      "INFO:errudite.io.dataset_reader:Loaded 101 objects to /Users/tongshuangwu/datasets/caches/error_analysis/squad-100/evaluations/bidaf-elmo.pkl.\n",
      "INFO:errudite.io.dataset_reader:Loaded 101 objects to /Users/tongshuangwu/datasets/caches/error_analysis/squad-100/evaluations/bidaf_elmo.pkl.\n",
      "INFO:errudite.io.dataset_reader:Loaded 101 objects to /Users/tongshuangwu/datasets/caches/error_analysis/squad-100/evaluations/bidaf_baseline.pkl.\n"
     ]
    }
   ],
   "source": [
    "from errudite.io import DatasetReader\n",
    "dr = DatasetReader.by_name(\"squad\")(\"~/datasets/caches/error_analysis/squad-100/\")\n",
    "dr.load_preprocessed()"
   ]
  },
  {
   "cell_type": "code",
   "execution_count": 5,
   "metadata": {},
   "outputs": [
    {
     "data": {
      "text/plain": [
       "{InstanceKey(qid='56be4db0acb8001400a502ec', vid=0): Instance [InstanceKey(qid='56be4db0acb8001400a502ec', vid=0)],\n",
       " InstanceKey(qid='56be4db0acb8001400a502ed', vid=0): Instance [InstanceKey(qid='56be4db0acb8001400a502ed', vid=0)],\n",
       " InstanceKey(qid='56be4db0acb8001400a502ee', vid=0): Instance [InstanceKey(qid='56be4db0acb8001400a502ee', vid=0)],\n",
       " InstanceKey(qid='56be4db0acb8001400a502ef', vid=0): Instance [InstanceKey(qid='56be4db0acb8001400a502ef', vid=0)],\n",
       " InstanceKey(qid='56be4db0acb8001400a502f0', vid=0): Instance [InstanceKey(qid='56be4db0acb8001400a502f0', vid=0)],\n",
       " InstanceKey(qid='56be8e613aeaaa14008c90d1', vid=0): Instance [InstanceKey(qid='56be8e613aeaaa14008c90d1', vid=0)],\n",
       " InstanceKey(qid='56be8e613aeaaa14008c90d2', vid=0): Instance [InstanceKey(qid='56be8e613aeaaa14008c90d2', vid=0)],\n",
       " InstanceKey(qid='56be8e613aeaaa14008c90d3', vid=0): Instance [InstanceKey(qid='56be8e613aeaaa14008c90d3', vid=0)],\n",
       " InstanceKey(qid='56bea9923aeaaa14008c91b9', vid=0): Instance [InstanceKey(qid='56bea9923aeaaa14008c91b9', vid=0)],\n",
       " InstanceKey(qid='56bea9923aeaaa14008c91ba', vid=0): Instance [InstanceKey(qid='56bea9923aeaaa14008c91ba', vid=0)],\n",
       " InstanceKey(qid='56bea9923aeaaa14008c91bb', vid=0): Instance [InstanceKey(qid='56bea9923aeaaa14008c91bb', vid=0)],\n",
       " InstanceKey(qid='56beace93aeaaa14008c91df', vid=0): Instance [InstanceKey(qid='56beace93aeaaa14008c91df', vid=0)],\n",
       " InstanceKey(qid='56beace93aeaaa14008c91e0', vid=0): Instance [InstanceKey(qid='56beace93aeaaa14008c91e0', vid=0)],\n",
       " InstanceKey(qid='56beace93aeaaa14008c91e1', vid=0): Instance [InstanceKey(qid='56beace93aeaaa14008c91e1', vid=0)],\n",
       " InstanceKey(qid='56beace93aeaaa14008c91e2', vid=0): Instance [InstanceKey(qid='56beace93aeaaa14008c91e2', vid=0)],\n",
       " InstanceKey(qid='56beace93aeaaa14008c91e3', vid=0): Instance [InstanceKey(qid='56beace93aeaaa14008c91e3', vid=0)],\n",
       " InstanceKey(qid='56bf10f43aeaaa14008c94fd', vid=0): Instance [InstanceKey(qid='56bf10f43aeaaa14008c94fd', vid=0)],\n",
       " InstanceKey(qid='56bf10f43aeaaa14008c94fe', vid=0): Instance [InstanceKey(qid='56bf10f43aeaaa14008c94fe', vid=0)],\n",
       " InstanceKey(qid='56bf10f43aeaaa14008c94ff', vid=0): Instance [InstanceKey(qid='56bf10f43aeaaa14008c94ff', vid=0)],\n",
       " InstanceKey(qid='56bf10f43aeaaa14008c9500', vid=0): Instance [InstanceKey(qid='56bf10f43aeaaa14008c9500', vid=0)],\n",
       " InstanceKey(qid='56bf10f43aeaaa14008c9501', vid=0): Instance [InstanceKey(qid='56bf10f43aeaaa14008c9501', vid=0)],\n",
       " InstanceKey(qid='56d20362e7d4791d009025e8', vid=0): Instance [InstanceKey(qid='56d20362e7d4791d009025e8', vid=0)],\n",
       " InstanceKey(qid='56d20362e7d4791d009025e9', vid=0): Instance [InstanceKey(qid='56d20362e7d4791d009025e9', vid=0)],\n",
       " InstanceKey(qid='56d20362e7d4791d009025ea', vid=0): Instance [InstanceKey(qid='56d20362e7d4791d009025ea', vid=0)],\n",
       " InstanceKey(qid='56d20362e7d4791d009025eb', vid=0): Instance [InstanceKey(qid='56d20362e7d4791d009025eb', vid=0)],\n",
       " InstanceKey(qid='56d600e31c85041400946eae', vid=0): Instance [InstanceKey(qid='56d600e31c85041400946eae', vid=0)],\n",
       " InstanceKey(qid='56d600e31c85041400946eb0', vid=0): Instance [InstanceKey(qid='56d600e31c85041400946eb0', vid=0)],\n",
       " InstanceKey(qid='56d600e31c85041400946eb1', vid=0): Instance [InstanceKey(qid='56d600e31c85041400946eb1', vid=0)],\n",
       " InstanceKey(qid='56d9895ddc89441400fdb50e', vid=0): Instance [InstanceKey(qid='56d9895ddc89441400fdb50e', vid=0)],\n",
       " InstanceKey(qid='56d9895ddc89441400fdb510', vid=0): Instance [InstanceKey(qid='56d9895ddc89441400fdb510', vid=0)],\n",
       " InstanceKey(qid='56be4e1facb8001400a502f6', vid=0): Instance [InstanceKey(qid='56be4e1facb8001400a502f6', vid=0)],\n",
       " InstanceKey(qid='56be4e1facb8001400a502f9', vid=0): Instance [InstanceKey(qid='56be4e1facb8001400a502f9', vid=0)],\n",
       " InstanceKey(qid='56be4e1facb8001400a502fa', vid=0): Instance [InstanceKey(qid='56be4e1facb8001400a502fa', vid=0)],\n",
       " InstanceKey(qid='56beaa4a3aeaaa14008c91c2', vid=0): Instance [InstanceKey(qid='56beaa4a3aeaaa14008c91c2', vid=0)],\n",
       " InstanceKey(qid='56beaa4a3aeaaa14008c91c3', vid=0): Instance [InstanceKey(qid='56beaa4a3aeaaa14008c91c3', vid=0)],\n",
       " InstanceKey(qid='56bead5a3aeaaa14008c91e9', vid=0): Instance [InstanceKey(qid='56bead5a3aeaaa14008c91e9', vid=0)],\n",
       " InstanceKey(qid='56bead5a3aeaaa14008c91ea', vid=0): Instance [InstanceKey(qid='56bead5a3aeaaa14008c91ea', vid=0)],\n",
       " InstanceKey(qid='56bead5a3aeaaa14008c91eb', vid=0): Instance [InstanceKey(qid='56bead5a3aeaaa14008c91eb', vid=0)],\n",
       " InstanceKey(qid='56bead5a3aeaaa14008c91ec', vid=0): Instance [InstanceKey(qid='56bead5a3aeaaa14008c91ec', vid=0)],\n",
       " InstanceKey(qid='56bead5a3aeaaa14008c91ed', vid=0): Instance [InstanceKey(qid='56bead5a3aeaaa14008c91ed', vid=0)],\n",
       " InstanceKey(qid='56bf159b3aeaaa14008c9507', vid=0): Instance [InstanceKey(qid='56bf159b3aeaaa14008c9507', vid=0)],\n",
       " InstanceKey(qid='56bf159b3aeaaa14008c9508', vid=0): Instance [InstanceKey(qid='56bf159b3aeaaa14008c9508', vid=0)],\n",
       " InstanceKey(qid='56bf159b3aeaaa14008c9509', vid=0): Instance [InstanceKey(qid='56bf159b3aeaaa14008c9509', vid=0)],\n",
       " InstanceKey(qid='56bf159b3aeaaa14008c950a', vid=0): Instance [InstanceKey(qid='56bf159b3aeaaa14008c950a', vid=0)],\n",
       " InstanceKey(qid='56bf159b3aeaaa14008c950b', vid=0): Instance [InstanceKey(qid='56bf159b3aeaaa14008c950b', vid=0)],\n",
       " InstanceKey(qid='56d2045de7d4791d009025f3', vid=0): Instance [InstanceKey(qid='56d2045de7d4791d009025f3', vid=0)],\n",
       " InstanceKey(qid='56d2045de7d4791d009025f4', vid=0): Instance [InstanceKey(qid='56d2045de7d4791d009025f4', vid=0)],\n",
       " InstanceKey(qid='56d2045de7d4791d009025f5', vid=0): Instance [InstanceKey(qid='56d2045de7d4791d009025f5', vid=0)],\n",
       " InstanceKey(qid='56d2045de7d4791d009025f6', vid=0): Instance [InstanceKey(qid='56d2045de7d4791d009025f6', vid=0)],\n",
       " InstanceKey(qid='56d6017d1c85041400946ebe', vid=0): Instance [InstanceKey(qid='56d6017d1c85041400946ebe', vid=0)],\n",
       " InstanceKey(qid='56d6017d1c85041400946ec1', vid=0): Instance [InstanceKey(qid='56d6017d1c85041400946ec1', vid=0)],\n",
       " InstanceKey(qid='56d6017d1c85041400946ec2', vid=0): Instance [InstanceKey(qid='56d6017d1c85041400946ec2', vid=0)],\n",
       " InstanceKey(qid='56d98a59dc89441400fdb52a', vid=0): Instance [InstanceKey(qid='56d98a59dc89441400fdb52a', vid=0)],\n",
       " InstanceKey(qid='56d98a59dc89441400fdb52b', vid=0): Instance [InstanceKey(qid='56d98a59dc89441400fdb52b', vid=0)],\n",
       " InstanceKey(qid='56d98a59dc89441400fdb52e', vid=0): Instance [InstanceKey(qid='56d98a59dc89441400fdb52e', vid=0)],\n",
       " InstanceKey(qid='56be4eafacb8001400a50302', vid=0): Instance [InstanceKey(qid='56be4eafacb8001400a50302', vid=0)],\n",
       " InstanceKey(qid='56be4eafacb8001400a50303', vid=0): Instance [InstanceKey(qid='56be4eafacb8001400a50303', vid=0)],\n",
       " InstanceKey(qid='56be4eafacb8001400a50304', vid=0): Instance [InstanceKey(qid='56be4eafacb8001400a50304', vid=0)],\n",
       " InstanceKey(qid='56beab833aeaaa14008c91d2', vid=0): Instance [InstanceKey(qid='56beab833aeaaa14008c91d2', vid=0)],\n",
       " InstanceKey(qid='56beab833aeaaa14008c91d3', vid=0): Instance [InstanceKey(qid='56beab833aeaaa14008c91d3', vid=0)],\n",
       " InstanceKey(qid='56beab833aeaaa14008c91d4', vid=0): Instance [InstanceKey(qid='56beab833aeaaa14008c91d4', vid=0)],\n",
       " InstanceKey(qid='56beae423aeaaa14008c91f4', vid=0): Instance [InstanceKey(qid='56beae423aeaaa14008c91f4', vid=0)],\n",
       " InstanceKey(qid='56beae423aeaaa14008c91f5', vid=0): Instance [InstanceKey(qid='56beae423aeaaa14008c91f5', vid=0)],\n",
       " InstanceKey(qid='56beae423aeaaa14008c91f6', vid=0): Instance [InstanceKey(qid='56beae423aeaaa14008c91f6', vid=0)],\n",
       " InstanceKey(qid='56beae423aeaaa14008c91f7', vid=0): Instance [InstanceKey(qid='56beae423aeaaa14008c91f7', vid=0)],\n",
       " InstanceKey(qid='56bf17653aeaaa14008c9511', vid=0): Instance [InstanceKey(qid='56bf17653aeaaa14008c9511', vid=0)],\n",
       " InstanceKey(qid='56bf17653aeaaa14008c9513', vid=0): Instance [InstanceKey(qid='56bf17653aeaaa14008c9513', vid=0)],\n",
       " InstanceKey(qid='56bf17653aeaaa14008c9514', vid=0): Instance [InstanceKey(qid='56bf17653aeaaa14008c9514', vid=0)],\n",
       " InstanceKey(qid='56bf17653aeaaa14008c9515', vid=0): Instance [InstanceKey(qid='56bf17653aeaaa14008c9515', vid=0)],\n",
       " InstanceKey(qid='56d204ade7d4791d00902603', vid=0): Instance [InstanceKey(qid='56d204ade7d4791d00902603', vid=0)],\n",
       " InstanceKey(qid='56d204ade7d4791d00902604', vid=0): Instance [InstanceKey(qid='56d204ade7d4791d00902604', vid=0)],\n",
       " InstanceKey(qid='56d601e41c85041400946ece', vid=0): Instance [InstanceKey(qid='56d601e41c85041400946ece', vid=0)],\n",
       " InstanceKey(qid='56d601e41c85041400946ecf', vid=0): Instance [InstanceKey(qid='56d601e41c85041400946ecf', vid=0)],\n",
       " InstanceKey(qid='56d601e41c85041400946ed0', vid=0): Instance [InstanceKey(qid='56d601e41c85041400946ed0', vid=0)],\n",
       " InstanceKey(qid='56d601e41c85041400946ed1', vid=0): Instance [InstanceKey(qid='56d601e41c85041400946ed1', vid=0)],\n",
       " InstanceKey(qid='56d601e41c85041400946ed2', vid=0): Instance [InstanceKey(qid='56d601e41c85041400946ed2', vid=0)],\n",
       " InstanceKey(qid='56d98b33dc89441400fdb53b', vid=0): Instance [InstanceKey(qid='56d98b33dc89441400fdb53b', vid=0)],\n",
       " InstanceKey(qid='56d98b33dc89441400fdb53c', vid=0): Instance [InstanceKey(qid='56d98b33dc89441400fdb53c', vid=0)],\n",
       " InstanceKey(qid='56d98b33dc89441400fdb53d', vid=0): Instance [InstanceKey(qid='56d98b33dc89441400fdb53d', vid=0)],\n",
       " InstanceKey(qid='56d98b33dc89441400fdb53e', vid=0): Instance [InstanceKey(qid='56d98b33dc89441400fdb53e', vid=0)],\n",
       " InstanceKey(qid='56be5333acb8001400a5030a', vid=0): Instance [InstanceKey(qid='56be5333acb8001400a5030a', vid=0)],\n",
       " InstanceKey(qid='56be5333acb8001400a5030b', vid=0): Instance [InstanceKey(qid='56be5333acb8001400a5030b', vid=0)],\n",
       " InstanceKey(qid='56be5333acb8001400a5030c', vid=0): Instance [InstanceKey(qid='56be5333acb8001400a5030c', vid=0)],\n",
       " InstanceKey(qid='56be5333acb8001400a5030d', vid=0): Instance [InstanceKey(qid='56be5333acb8001400a5030d', vid=0)],\n",
       " InstanceKey(qid='56be5333acb8001400a5030e', vid=0): Instance [InstanceKey(qid='56be5333acb8001400a5030e', vid=0)],\n",
       " InstanceKey(qid='56beaf5e3aeaaa14008c91fd', vid=0): Instance [InstanceKey(qid='56beaf5e3aeaaa14008c91fd', vid=0)],\n",
       " InstanceKey(qid='56beaf5e3aeaaa14008c91fe', vid=0): Instance [InstanceKey(qid='56beaf5e3aeaaa14008c91fe', vid=0)],\n",
       " InstanceKey(qid='56beaf5e3aeaaa14008c91ff', vid=0): Instance [InstanceKey(qid='56beaf5e3aeaaa14008c91ff', vid=0)],\n",
       " InstanceKey(qid='56beaf5e3aeaaa14008c9200', vid=0): Instance [InstanceKey(qid='56beaf5e3aeaaa14008c9200', vid=0)],\n",
       " InstanceKey(qid='56beaf5e3aeaaa14008c9201', vid=0): Instance [InstanceKey(qid='56beaf5e3aeaaa14008c9201', vid=0)],\n",
       " InstanceKey(qid='56bf1ae93aeaaa14008c951b', vid=0): Instance [InstanceKey(qid='56bf1ae93aeaaa14008c951b', vid=0)],\n",
       " InstanceKey(qid='56bf1ae93aeaaa14008c951c', vid=0): Instance [InstanceKey(qid='56bf1ae93aeaaa14008c951c', vid=0)],\n",
       " InstanceKey(qid='56bf1ae93aeaaa14008c951e', vid=0): Instance [InstanceKey(qid='56bf1ae93aeaaa14008c951e', vid=0)],\n",
       " InstanceKey(qid='56bf1ae93aeaaa14008c951f', vid=0): Instance [InstanceKey(qid='56bf1ae93aeaaa14008c951f', vid=0)],\n",
       " InstanceKey(qid='56d2051ce7d4791d00902608', vid=0): Instance [InstanceKey(qid='56d2051ce7d4791d00902608', vid=0)],\n",
       " InstanceKey(qid='56d2051ce7d4791d00902609', vid=0): Instance [InstanceKey(qid='56d2051ce7d4791d00902609', vid=0)],\n",
       " InstanceKey(qid='56d2051ce7d4791d0090260a', vid=0): Instance [InstanceKey(qid='56d2051ce7d4791d0090260a', vid=0)],\n",
       " InstanceKey(qid='56d2051ce7d4791d0090260b', vid=0): Instance [InstanceKey(qid='56d2051ce7d4791d0090260b', vid=0)],\n",
       " InstanceKey(qid='56d602631c85041400946ed8', vid=0): Instance [InstanceKey(qid='56d602631c85041400946ed8', vid=0)],\n",
       " InstanceKey(qid='56d602631c85041400946eda', vid=0): Instance [InstanceKey(qid='56d602631c85041400946eda', vid=0)],\n",
       " InstanceKey(qid='56d602631c85041400946edb', vid=0): Instance [InstanceKey(qid='56d602631c85041400946edb', vid=0)]}"
      ]
     },
     "execution_count": 5,
     "metadata": {},
     "output_type": "execute_result"
    }
   ],
   "source": [
    "from errudite.targets.instance import Instance\n",
    "Instance.instance_hash"
   ]
  },
  {
   "cell_type": "code",
   "execution_count": 6,
   "metadata": {},
   "outputs": [
    {
     "data": {
      "text/plain": [
       "'f1'"
      ]
     },
     "execution_count": 6,
     "metadata": {},
     "output_type": "execute_result"
    }
   ],
   "source": [
    "from errudite.targets.label import Label\n",
    "Label.task_primary_metric"
   ]
  },
  {
   "cell_type": "code",
   "execution_count": 7,
   "metadata": {},
   "outputs": [
    {
     "name": "stdout",
     "output_type": "stream",
     "text": [
      "\u001b[38;5;2m✔ Download and installation successful\u001b[0m\n",
      "You can now load the model via spacy.load('en_core_web_sm')\n"
     ]
    },
    {
     "name": "stderr",
     "output_type": "stream",
     "text": [
      "INFO:errudite.io.dataset_reader:Computing vocab frequency from file at: ~/datasets/raw_data/squad/train-v1.1.json\n",
      "442it [00:00, 8928.74it/s]\n",
      "INFO:errudite.io.dataset_reader:Computing question frequency.\n",
      "INFO:errudite.io.dataset_reader:Computing answer frequency.\n"
     ]
    }
   ],
   "source": [
    "dr.count_vocab_freq(\"~/datasets/raw_data/squad/train-v1.1.json\")"
   ]
  },
  {
   "cell_type": "code",
   "execution_count": 29,
   "metadata": {},
   "outputs": [
    {
     "name": "stderr",
     "output_type": "stream",
     "text": [
      "INFO:errudite.io.dataset_reader:Computing linguistic performance distribution per instance...\n",
      "100%|██████████| 101/101 [00:04<00:00, 23.25it/s]\n",
      "INFO:errudite.io.dataset_reader:Computing the final distribution...\n"
     ]
    }
   ],
   "source": [
    "from errudite.targets.instance import Instance\n",
    "dr.compute_ling_perform_dict(list(Instance.instance_hash.values()))"
   ]
  },
  {
   "cell_type": "code",
   "execution_count": 10,
   "metadata": {},
   "outputs": [
    {
     "name": "stderr",
     "output_type": "stream",
     "text": [
      "INFO:errudite.io.dataset_reader:Dumped 101 objects to /Users/tongshuangwu/datasets/caches/error_analysis/squad-100/instances.pkl.\n",
      "INFO:errudite.io.dataset_reader:Dumped 101 objects to /Users/tongshuangwu/datasets/caches/error_analysis/squad-100/evaluations/bidaf-elmo.pkl.\n",
      "INFO:errudite.io.dataset_reader:Dumped 101 objects to /Users/tongshuangwu/datasets/caches/error_analysis/squad-100/evaluations/bidaf-baseline.pkl.\n",
      "INFO:errudite.io.dataset_reader:Dumped the linginguistic perform dict.\n"
     ]
    }
   ],
   "source": [
    "dr.dump_preprocessed()"
   ]
  },
  {
   "cell_type": "code",
   "execution_count": 23,
   "metadata": {},
   "outputs": [
    {
     "data": {
      "text/plain": [
       "['question']"
      ]
     },
     "execution_count": 23,
     "metadata": {},
     "output_type": "execute_result"
    }
   ],
   "source": [
    "list(Instance.ling_perform_dict.keys())"
   ]
  },
  {
   "cell_type": "code",
   "execution_count": 14,
   "metadata": {},
   "outputs": [],
   "source": [
    "from errudite.build_blocks.build_block_detector import BuildBlockDetector\n",
    "bbd = BuildBlockDetector.by_name(\"qa\")()"
   ]
  },
  {
   "cell_type": "code",
   "execution_count": 15,
   "metadata": {},
   "outputs": [
    {
     "name": "stderr",
     "output_type": "stream",
     "text": [
      "WARNING:errudite.build_blocks.build_block_detector:Instance does not have 'answer_type'.\n",
      "INFO:errudite.build_blocks.wrapper:Parsed: FuncOp(starts_with):[ArgOp:question]+[KwargOp(pattern):who won super]\n",
      "INFO:errudite.build_blocks.wrapper:Parsed: FuncOp(question_type):[ArgOp:question]+[]\n",
      "INFO:errudite.build_blocks.wrapper:Parsed: FuncOp(question_type):[ArgOp:question]+[]\n"
     ]
    },
    {
     "name": "stdout",
     "output_type": "stream",
     "text": [
      "[TargetMeta(target='question', target_cmd='question', target_entry=[Question] [InstanceKey(qid='56beace93aeaaa14008c91df', vid=0)]\n",
      "Who won Super Bowl 50?, start_idx=0, end_idx=3)]\n"
     ]
    },
    {
     "name": "stderr",
     "output_type": "stream",
     "text": [
      "INFO:errudite.build_blocks.wrapper:Parsed: FuncOp(overlap):[ArgOp:question, ArgOp:FuncOp(sentence):[ArgOp:groundtruths]+[]]+[KwargOp(label):lemma]\n",
      "INFO:errudite.build_blocks.wrapper:Parsed: FuncOp(overlap):[ArgOp:question, ArgOp:FuncOp(sentence):[ArgOp:groundtruths]+[]]+[KwargOp(label):lemma]\n",
      "INFO:errudite.build_blocks.wrapper:Parsed: FuncOp(question_type):[ArgOp:question]+[]\n",
      "INFO:errudite.build_blocks.wrapper:Parsed: FuncOp(question_type):[ArgOp:question]+[]\n",
      "INFO:errudite.build_blocks.wrapper:Parsed: FuncOp(answer_type):[ArgOp:groundtruths]+[]\n",
      "INFO:errudite.build_blocks.wrapper:Parsed: FuncOp(answer_type):[ArgOp:FuncOp(prediction):[]+[KwargOp(model):None]]+[]\n",
      "ERROR:errudite.build_blocks.wrapper:\"Cannot find [ model: None ]'s predictions for [ prediction ].\"\n",
      "INFO:errudite.build_blocks.wrapper:Parsed: FuncOp(answer_type):[ArgOp:groundtruths]+[]\n",
      "INFO:errudite.build_blocks.wrapper:Parsed: FuncOp(answer_type):[ArgOp:groundtruths]+[]\n",
      "INFO:errudite.build_blocks.wrapper:Parsed: FuncOp(answer_type):[ArgOp:FuncOp(prediction):[]+[KwargOp(model):None]]+[]\n",
      "INFO:errudite.build_blocks.wrapper:Parsed: FuncOp(answer_type):[ArgOp:FuncOp(prediction):[]+[KwargOp(model):None]]+[]\n"
     ]
    }
   ],
   "source": [
    "bbd.on_select(target=\"question\", qid='56beace93aeaaa14008c91df', vid=0, start_idx=0, end_idx=3)"
   ]
  },
  {
   "cell_type": "code",
   "execution_count": 16,
   "metadata": {},
   "outputs": [
    {
     "data": {
      "text/plain": [
       "[{'cmd': 'starts_with(question, pattern=\"who won super\")',\n",
       "  'type': 'linguistic',\n",
       "  'domain': None},\n",
       " {'cmd': 'question_type(question) == \"who\"', 'type': 'filter', 'domain': None},\n",
       " {'cmd': 'overlap(question, sentence(groundtruths), label=\"lemma\") <= 0.5',\n",
       "  'type': 'filter',\n",
       "  'domain': None},\n",
       " {'cmd': 'answer_type(groundtruths) == \"LOC\"',\n",
       "  'type': 'general',\n",
       "  'domain': None},\n",
       " {'cmd': 'answer_type(groundtruths) != answer_type(prediction(model=\"None\"))',\n",
       "  'type': 'general',\n",
       "  'domain': None},\n",
       " {'cmd': 'answer_type(prediction(model=\"None\")) == \"None\"',\n",
       "  'type': 'general',\n",
       "  'domain': None}]"
      ]
     },
     "execution_count": 16,
     "metadata": {},
     "output_type": "execute_result"
    }
   ],
   "source": [
    "bbd.suggestions"
   ]
  },
  {
   "cell_type": "code",
   "execution_count": 6,
   "metadata": {},
   "outputs": [
    {
     "data": {
      "text/plain": [
       "{'length': ['docs'],\n",
       " 'answer_offset_delta': ['direction=\"left\"'],\n",
       " 'answer_offset_span': ['direction=\"left\"'],\n",
       " 'overlap': ['doc_a', 'doc_b', 'label=\"lemma\"', 'return_token_list=False'],\n",
       " 'sentence': ['answer', 'shift=0'],\n",
       " 'token': ['docs', 'idxes=None', 'pattern=None'],\n",
       " 'has_pattern': ['docs', 'idxes=None', 'pattern=None'],\n",
       " 'starts_with': ['docs', 'pattern=None', 'idxes=None'],\n",
       " 'ends_with': ['docs', 'pattern=None', 'idxes=None'],\n",
       " 'question_type': ['target'],\n",
       " 'answer_type': ['target'],\n",
       " 'is_digit': ['target'],\n",
       " 'digitize': ['target'],\n",
       " 'truncate': ['value', 'min_value=-1', 'max_value=50'],\n",
       " 'f1': ['model'],\n",
       " 'precision': ['model'],\n",
       " 'recall': ['model'],\n",
       " 'accuracy': ['model'],\n",
       " 'confidence': ['model'],\n",
       " 'exact_match': ['model'],\n",
       " 'is_correct_sent': ['model'],\n",
       " 'prediction': ['model'],\n",
       " 'is_rewritten_by': ['instance'],\n",
       " 'apply': ['func', 'rewrite=\"SELECTED\"'],\n",
       " 'LABEL': ['target'],\n",
       " 'LEMMA': ['spans', 'pattern=None', 'get_root=False', 'get_most_common=False'],\n",
       " 'ENT_TYPE': ['spans',\n",
       "  'pattern=None',\n",
       "  'get_root=False',\n",
       "  'get_most_common=False'],\n",
       " 'POS': ['spans', 'pattern=None', 'get_root=False', 'get_most_common=False'],\n",
       " 'TAG': ['spans', 'pattern=None', 'get_root=False', 'get_most_common=False'],\n",
       " 'DEP': ['spans', 'pattern=None', 'get_root=False', 'get_most_common=False'],\n",
       " 'ORTH': ['spans', 'pattern=None', 'get_root=False', 'get_most_common=False'],\n",
       " 'meta': ['doc', 'meta_name'],\n",
       " 'match_super': ['orgin', 'new'],\n",
       " 'get_synonym': ['word'],\n",
       " 'get_antonym': ['word'],\n",
       " 'length_': ['target']}"
      ]
     },
     "execution_count": 6,
     "metadata": {},
     "output_type": "execute_result"
    }
   ],
   "source": [
    "PrimFunc.get_funcs_hash()"
   ]
  },
  {
   "cell_type": "code",
   "execution_count": 7,
   "metadata": {},
   "outputs": [],
   "source": [
    "from errudite.targets.instance import Instance\n",
    "# build hashes\n",
    "instance_hash, instance_hash_rewritten, qid_hash = Instance.build_instance_hashes(instances)"
   ]
  },
  {
   "cell_type": "code",
   "execution_count": 8,
   "metadata": {},
   "outputs": [
    {
     "name": "stderr",
     "output_type": "stream",
     "text": [
      "INFO:errudite.build_blocks.wrapper:Parsed: FuncOp(length):[ArgOp:question]+[]\n",
      "INFO:errudite.builts.attribute:Created attr: question_length\n"
     ]
    },
    {
     "data": {
      "text/plain": [
       "[Attribute](question_length): \n",
       "\tCMD\t: length(question)\n",
       "\tCOUNT\t: 10\n",
       "\tDOMAIN\t: [6.0, 13.0]"
      ]
     },
     "execution_count": 8,
     "metadata": {},
     "output_type": "execute_result"
    }
   ],
   "source": [
    "from errudite.builts import Attribute\n",
    "attr = Attribute.create(\n",
    "    name='question_length',\n",
    "    description='the length of the premise',\n",
    "    cmd_str='length(question)',\n",
    "    test_size=10, # get a test of the output\n",
    "    qid_hash=qid_hash,\n",
    "    instance_hash=instance_hash,\n",
    "    instance_hash_rewritten=instance_hash_rewritten)\n",
    "attr"
   ]
  },
  {
   "cell_type": "code",
   "execution_count": 9,
   "metadata": {},
   "outputs": [
    {
     "data": {
      "text/plain": [
       "defaultdict(None,\n",
       "            {InstanceKey(qid='56be5333acb8001400a5030c', vid=0): 10,\n",
       "             InstanceKey(qid='56beab833aeaaa14008c91d4', vid=0): 8,\n",
       "             InstanceKey(qid='56d2051ce7d4791d0090260a', vid=0): 11,\n",
       "             InstanceKey(qid='56d20362e7d4791d009025e9', vid=0): 7,\n",
       "             InstanceKey(qid='56beace93aeaaa14008c91df', vid=0): 6,\n",
       "             InstanceKey(qid='56be4db0acb8001400a502ec', vid=0): 11,\n",
       "             InstanceKey(qid='56d204ade7d4791d00902603', vid=0): 9,\n",
       "             InstanceKey(qid='56d601e41c85041400946ed0', vid=0): 10,\n",
       "             InstanceKey(qid='56be4e1facb8001400a502f9', vid=0): 13,\n",
       "             InstanceKey(qid='56d9895ddc89441400fdb50e', vid=0): 9})"
      ]
     },
     "execution_count": 9,
     "metadata": {},
     "output_type": "execute_result"
    }
   ],
   "source": [
    "attr.get_instances()"
   ]
  },
  {
   "cell_type": "code",
   "execution_count": 13,
   "metadata": {},
   "outputs": [
    {
     "name": "stderr",
     "output_type": "stream",
     "text": [
      "INFO:errudite.utils.store:Removed Attribute: question_length.\n"
     ]
    },
    {
     "data": {
      "text/plain": [
       "[]"
      ]
     },
     "execution_count": 13,
     "metadata": {},
     "output_type": "execute_result"
    }
   ],
   "source": [
    "Attribute.remove_saved(\"question_length\")\n",
    "list(Attribute.keys())"
   ]
  },
  {
   "cell_type": "code",
   "execution_count": 13,
   "metadata": {},
   "outputs": [],
   "source": [
    "class Ob(object):\n",
    "    def __init__(self, a):\n",
    "        self.a = a\n",
    "    @classmethod\n",
    "    def build(cls,a):\n",
    "        return cls(1)\n",
    "p = Ob.build(1)"
   ]
  },
  {
   "cell_type": "code",
   "execution_count": 15,
   "metadata": {},
   "outputs": [
    {
     "data": {
      "text/plain": [
       "'Ob'"
      ]
     },
     "execution_count": 15,
     "metadata": {},
     "output_type": "execute_result"
    }
   ],
   "source": [
    "p.__class__.__name__"
   ]
  },
  {
   "cell_type": "code",
   "execution_count": null,
   "metadata": {},
   "outputs": [],
   "source": [
    "from errudite.build_blocks.prim_funcs import *"
   ]
  },
  {
   "cell_type": "code",
   "execution_count": 13,
   "metadata": {},
   "outputs": [],
   "source": [
    "from inspect import signature\n",
    "b = signature(Extractor.by_name(\"output1\"))"
   ]
  },
  {
   "cell_type": "code",
   "execution_count": 27,
   "metadata": {},
   "outputs": [],
   "source": [
    "@Extractor.register()\n",
    "def length(docs):\n",
    "    return length(doc)\n",
    "\n",
    "@Extractor.register()\n",
    "def sentence(answer, context, shift=0):\n",
    "    print(context)\n",
    "    return 1"
   ]
  },
  {
   "cell_type": "code",
   "execution_count": 35,
   "metadata": {},
   "outputs": [
    {
     "name": "stdout",
     "output_type": "stream",
     "text": [
      "{'output': ['a', 'b=1'], 'output1': ['a', 'b=1'], 'length': ['docs'], 'sentence': ['answer', 'shift=0']}\n"
     ]
    }
   ],
   "source": [
    "from functools import partial\n",
    "instance = {\n",
    "    \"context\": 1\n",
    "}\n",
    "partial_funcs = {}\n",
    "from inspect import signature\n",
    "\n",
    "entries = [\"context\", \"question\", \"groundtruths\", \"predictions\"]\n",
    "instance_params = {}\n",
    "for func_name in Extractor.list_available():\n",
    "    func = Extractor.by_name(func_name)\n",
    "    sig = signature(func)\n",
    "    instance_params[func_name] = [ str(param) \\\n",
    "        for param in sig.parameters.values() \\\n",
    "        if param.name not in entries ]\n",
    "print(instance_params)"
   ]
  },
  {
   "cell_type": "code",
   "execution_count": 32,
   "metadata": {},
   "outputs": [
    {
     "data": {
      "text/plain": [
       "{'output': functools.partial(<function output at 0x117a548c8>, b=1),\n",
       " 'output1': functools.partial(<function output1 at 0x117a547b8>, b=1),\n",
       " 'length': functools.partial(<function length at 0x117f95730>),\n",
       " 'sentence': functools.partial(<function sentence at 0x1178db7b8>, context=1, shift=0)}"
      ]
     },
     "execution_count": 32,
     "metadata": {},
     "output_type": "execute_result"
    }
   ],
   "source": [
    "partial_funcs"
   ]
  },
  {
   "cell_type": "code",
   "execution_count": null,
   "metadata": {},
   "outputs": [],
   "source": [
    "instances[0].show_instance()"
   ]
  },
  {
   "cell_type": "code",
   "execution_count": 5,
   "metadata": {},
   "outputs": [
    {
     "name": "stdout",
     "output_type": "stream",
     "text": [
      "True\n"
     ]
    },
    {
     "data": {
      "text/plain": [
       "'success'"
      ]
     },
     "execution_count": 5,
     "metadata": {},
     "output_type": "execute_result"
    }
   ],
   "source": [
    "# init the parser \n",
    "from errudite.build_blocks.wrapper import BuildBlockWrapper\n",
    "bbw = BuildBlockWrapper()\n",
    "# build a cmd that computes the length of the premise in each instance\n",
    "# cmd_type: attribute or group, \n",
    "# depending if we are extracting information or building filer.\n",
    "func = lambda x: True\n",
    "print(callable(func))\n",
    "try:\n",
    "    bbw.parse_cmd_to_operator(cmd=func, cmd_type='attr')\n",
    "    msg = \"success\"\n",
    "except Exception as e:\n",
    "    msg = e.args\n",
    "msg\n",
    "# test one instance\n",
    "#bbw.test_instances([{ instance.rid: instance }])"
   ]
  },
  {
   "cell_type": "code",
   "execution_count": 8,
   "metadata": {},
   "outputs": [],
   "source": [
    "from errudite.build_blocks.prim_funcs import *"
   ]
  },
  {
   "cell_type": "code",
   "execution_count": 9,
   "metadata": {},
   "outputs": [
    {
     "data": {
      "text/plain": [
       "True"
      ]
     },
     "execution_count": 9,
     "metadata": {},
     "output_type": "execute_result"
    }
   ],
   "source": [
    "#F1(\"decompose_att\", instances[0].predictions)\n",
    "starts_with(instances[0].hypothesis, pattern=\"the\")"
   ]
  },
  {
   "cell_type": "code",
   "execution_count": 7,
   "metadata": {},
   "outputs": [
    {
     "data": {
      "text/plain": [
       "'Success'"
      ]
     },
     "execution_count": 7,
     "metadata": {},
     "output_type": "execute_result"
    }
   ],
   "source": [
    "from errudite.builts import Attribute\n",
    "from errudite.utils.check import DSLValueError\n",
    "\n",
    "# create\n",
    "try:\n",
    "    attr = Attribute(\n",
    "        name='premise_length', \n",
    "        description='the length of the premise',\n",
    "        cmd_str='length(premise)')\n",
    "    msg = \"Success\"\n",
    "except Exception as e:\n",
    "    msg = e.args\n",
    "msg"
   ]
  },
  {
   "cell_type": "code",
   "execution_count": 11,
   "metadata": {},
   "outputs": [
    {
     "name": "stderr",
     "output_type": "stream",
     "text": [
      "\"Cannot find [ model: hi ]'s predictions for [ perform ].\"\n"
     ]
    },
    {
     "name": "stdout",
     "output_type": "stream",
     "text": [
      "DONE: accuracy('hi')\n",
      "Created attr: premise_length\n"
     ]
    },
    {
     "data": {
      "text/plain": [
       "{}"
      ]
     },
     "execution_count": 11,
     "metadata": {},
     "output_type": "execute_result"
    }
   ],
   "source": [
    "from errudite.targets.instance import Instance\n",
    "from errudite.rewrites.helpers import UNEDITED_RID\n",
    "\n",
    "def test(instance, edit_type=UNEDITED_RID, **kwargs):\n",
    "    return len(instance.query.doc)\n",
    "\n",
    "instance_hash, instance_hash_edited, qid_hash = Instance.build_instance_hashes(instances)\n",
    "attr = Attribute.create_and_run(\n",
    "    name='premise_length',\n",
    "    description='the length of the premise',\n",
    "    cmd_str=\"accuracy('hi')\",\n",
    "    qid_hash=qid_hash,\n",
    "    instance_hash=instance_hash,\n",
    "    instance_hash_edited=instance_hash_edited,\n",
    "    test_size=10, # get a test of the output\n",
    "    sample_list=None # run it on a predefined instance key list\n",
    ")\n",
    "attr.get_instances()"
   ]
  },
  {
   "cell_type": "code",
   "execution_count": 28,
   "metadata": {},
   "outputs": [
    {
     "data": {
      "text/plain": [
       "True"
      ]
     },
     "execution_count": 28,
     "metadata": {},
     "output_type": "execute_result"
    }
   ],
   "source": [
    "import inspect\n",
    "def func(x, y=True):\n",
    "    return None\n",
    "\"y\" in inspect.signature(func).parameters"
   ]
  },
  {
   "cell_type": "code",
   "execution_count": null,
   "metadata": {},
   "outputs": [],
   "source": []
  }
 ],
 "metadata": {
  "kernelspec": {
   "display_name": "Python 3",
   "language": "python",
   "name": "python3"
  },
  "language_info": {
   "codemirror_mode": {
    "name": "ipython",
    "version": 3
   },
   "file_extension": ".py",
   "mimetype": "text/x-python",
   "name": "python",
   "nbconvert_exporter": "python",
   "pygments_lexer": "ipython3",
   "version": "3.6.5"
  }
 },
 "nbformat": 4,
 "nbformat_minor": 2
}
