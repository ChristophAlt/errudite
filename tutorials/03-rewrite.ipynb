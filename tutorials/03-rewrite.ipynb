{
 "cells": [
  {
   "cell_type": "markdown",
   "metadata": {},
   "source": [
    "# Tutorial 03: Counterfactual analysi & Rewrite rules"
   ]
  },
  {
   "cell_type": "markdown",
   "metadata": {},
   "source": [
    "For scalable counterfactual analysis, Errudite uses rules to rewrite all relevant instances within a group – similar to search and replace but with the flexibility and power of the Errudite DSL. \n",
    "\n",
    "Just like `DatasetReader`, `Predictor` and `PrimFunc`, `Rewrite` allows extension through `register`. There are two large types of rewrite rules: defaults (see the documentation), and those implemented in the syntax of `rewrite(target, from -> to)`: \n",
    "\n",
    "> Target indicates the part of the instance that should be rewritten by replacing from with to. Depending on whether or not you want to use linguistic features.\n",
    "\n",
    "We will introduce the latter here."
   ]
  },
  {
   "cell_type": "markdown",
   "metadata": {},
   "source": [
    "### Setup"
   ]
  },
  {
   "cell_type": "code",
   "execution_count": 1,
   "metadata": {},
   "outputs": [
    {
     "name": "stdout",
     "output_type": "stream",
     "text": [
      "<module 'errudite' from '../errudite/__init__.py'>\n"
     ]
    }
   ],
   "source": [
    "%load_ext autoreload\n",
    "%autoreload 2\n",
    "\n",
    "import warnings\n",
    "warnings.filterwarnings('ignore')\n",
    "\n",
    "def import_sys():\n",
    "    import sys\n",
    "    sys.path.append('..')\n",
    "import_sys()\n",
    "\n",
    "import logging\n",
    "logging.basicConfig(level=logging.INFO)\n",
    "logger = logging.getLogger(__name__)  # pylint: disable=invalid-name\n",
    "\n",
    "import errudite\n",
    "print(errudite)"
   ]
  },
  {
   "cell_type": "code",
   "execution_count": 2,
   "metadata": {},
   "outputs": [
    {
     "name": "stderr",
     "output_type": "stream",
     "text": [
      "WARNING:errudite.utils.file_utils:Local path not yet exist, but still parsed: /Users/tongshuangwu/sourcetree/errudite/tutorials/caches/vocab.pkl\n",
      "WARNING:errudite.processor.spacy_annotator:(2, 'No such file or directory')\n",
      "INFO:errudite.utils.file_utils:Errudite cache folder selected: ./data/snli_tutorial_caches/\n",
      "INFO:errudite.io.dataset_reader:Loaded 100 objects to ./data/snli_tutorial_caches/instances.pkl.\n",
      "INFO:errudite.io.dataset_reader:Loaded 100 objects to ./data/snli_tutorial_caches/evaluations/decompose_att.pkl.\n"
     ]
    }
   ],
   "source": [
    "# set the dataset reader\n",
    "from errudite.io import DatasetReader\n",
    "\n",
    "cache_folder_path = \"./data/snli_tutorial_caches/\"\n",
    "reader = DatasetReader.by_name(\"snli\")(\n",
    "    cache_folder_path=cache_folder_path)\n",
    "instances = reader.load_preprocessed()"
   ]
  },
  {
   "cell_type": "markdown",
   "metadata": {},
   "source": [
    "## Create the Pattern Replacing Rule\n",
    "\n",
    "As mentioned before, a typical customized rewrite rule  rewrites the `target_cmd` part of an instance by replacing `from_cmd` with `to_cmd`. The name/rid of the rule is: `{from_cmd} -> {to_cmd}` ([documentation](https://errudite.readthedocs.io/en/latest/api/errudite.rewrites.defines.html)).\n",
    "\n",
    "Both `from_cmd` and `to_cmd` can include linguistic annotations, in ALL CAPS. For example, to create a rule that replaces all the cardinal numbers before a NOUN to \"one\" you can input `from_cmd=\"CARDINAL NOUN VERB\"`, and `to_cmd=\"one NOUN VERB\"`."
   ]
  },
  {
   "cell_type": "code",
   "execution_count": 3,
   "metadata": {},
   "outputs": [
    {
     "name": "stderr",
     "output_type": "stream",
     "text": [
      "INFO:errudite.build_blocks.wrapper:Parsed: premise\n"
     ]
    },
    {
     "name": "stdout",
     "output_type": "stream",
     "text": [
      "<class 'errudite.rewrites.replace_pattern.ReplacePattern'>\n"
     ]
    }
   ],
   "source": [
    "from errudite.rewrites import Rewrite\n",
    "rewrite = Rewrite.create_with_cmd(\n",
    "    from_cmd='CARDINAL NOUN VERB', \n",
    "    to_cmd='one NOUN VERB', \n",
    "    target_cmd='premise'\n",
    ")"
   ]
  },
  {
   "cell_type": "code",
   "execution_count": 5,
   "metadata": {},
   "outputs": [
    {
     "data": {
      "text/plain": [
       "PatternMeta(before=({'ENT_TYPE': 'CARDINAL', 'OP': '+'}, {'POS': 'NOUN'}, {'POS': 'VERB'}), after=({'LOWER': 'one'}, {'POS': 'NOUN'}, {'POS': 'VERB'}))"
      ]
     },
     "execution_count": 5,
     "metadata": {},
     "output_type": "execute_result"
    }
   ],
   "source": [
    "rewrite.pattern"
   ]
  },
  {
   "cell_type": "markdown",
   "metadata": {},
   "source": [
    "### Run the rewrite and save the new instance\n",
    "\n",
    "Once a rewrite is created, you could apply the rewrite to all instances at once, and formalize the rewritten instances in a way similar to the preprocessing steps."
   ]
  },
  {
   "cell_type": "code",
   "execution_count": null,
   "metadata": {
    "scrolled": true
   },
   "outputs": [],
   "source": [
    "# ---------\n",
    "# load a predictor\n",
    "from errudite.predictors import Predictor\n",
    "model_online_path = \"https://s3-us-west-2.amazonaws.com/allennlp/models/decomposable-attention-elmo-2018.02.19.tar.gz\"\n",
    "predictor = Predictor.by_name(\"nli_decompose_att\")(\n",
    "    name='decompose_att', \n",
    "    description='Pretrained model from Allennlp, for the decomposable attention model',\n",
    "    model_online_path=model_online_path)"
   ]
  },
  {
   "cell_type": "code",
   "execution_count": 10,
   "metadata": {},
   "outputs": [],
   "source": [
    "\n",
    "from errudite.targets.instance import Instance\n",
    "from errudite.targets.target import Target\n",
    "\n",
    "for instance in Instance.instance_hash.values():\n",
    "    \"\"\"\n",
    "    This function returns a named tuple, with rid and the \n",
    "    rewritten text of the instance intended target. \n",
    "    If the instance cannot be rewritten, return None.\n",
    "    \"\"\"\n",
    "    rewritten_output = rewrite.rewrite_one_instance(instance)\n",
    "    if not rewritten_output:\n",
    "        continue\n",
    "    entries = {}\n",
    "    # compute the vid automatically\n",
    "    vid = len(Instance.qid_hash[instance.qid])\n",
    "    # init the instance \n",
    "    rewritten_instance = Instance(\n",
    "        qid=instance.qid, vid=vid, rid=rewrite.rid)\n",
    "    for e in instance.entries:\n",
    "        if e in rewrite.target_cmd:\n",
    "            # automatically create a new Target for the \n",
    "            # rewritten part.\n",
    "            entry = Target(\n",
    "                qid=instance.qid, \n",
    "                text=rewritten_output.text, \n",
    "                vid=vid, \n",
    "                metas=instance.get_entry(e).metas)\n",
    "        else:\n",
    "            # Otherwise, use the original target\n",
    "            entry = instance.get_entry(e)\n",
    "        # save all the entries\n",
    "        rewritten_instance.set_entries(**{e: entry})\n",
    "    # run the prediction\n",
    "    prediction = Predictor.by_name(\"nli_task_class\").model_predict(\n",
    "        predictor, \n",
    "        rewritten_instance.get_entry('premise'), \n",
    "        rewritten_instance.get_entry('hypothesis'), \n",
    "        rewritten_instance.get_entry('groundtruth'))\n",
    "    # save the prediction\n",
    "    rewritten_instance.set_entries(prediction=prediction)\n",
    "    # set the rewritten key into the rewrite\n",
    "    rewrite.add_instance(rewritten_instance.key())\n",
    "    # save into the Instance hashes\n",
    "    Instance.save(rewritten_instance)"
   ]
  },
  {
   "cell_type": "markdown",
   "metadata": {},
   "source": [
    "Take a look at one rewritten instance:"
   ]
  },
  {
   "cell_type": "code",
   "execution_count": 11,
   "metadata": {},
   "outputs": [
    {
     "name": "stdout",
     "output_type": "stream",
     "text": [
      "[Instance] [InstanceKey(qid='4705552913.jpg#2r1n', vid=1)]\n",
      "[hypothesis]\tThe sisters are hugging goodbye while holding to go packages after just eating lunch.\n",
      "[premise]\tOne women are embracing while holding to go packages.\n",
      "[groundtruth]\tneutral\tgroundtruth\t{}\n",
      "[predictions]\tneutral\tdecompose_att\t{'accuracy': 1.0, 'confidence': 0.9986408352851868}\n",
      "[prediction]\tneutral\tdecompose_att\t{'accuracy': 1.0, 'confidence': 0.9981850981712341}\n",
      "\n"
     ]
    }
   ],
   "source": [
    "ie = list(Instance.instance_hash_rewritten.values())[0]\n",
    "ie.show_instance()"
   ]
  },
  {
   "cell_type": "markdown",
   "metadata": {},
   "source": [
    "#### Visualize rewritten instance changing status:\n",
    "\n",
    "The visualization for a rewrite rule is one-bar histogram that displays the count of instances rewritten, and the proportion of \"flip_to_correct\", \"flip_to_incorrect\", \"unflip\". Because of the flipping proportion, this historgram is different for each different model. "
   ]
  },
  {
   "cell_type": "code",
   "execution_count": 12,
   "metadata": {},
   "outputs": [
    {
     "data": {
      "application/vnd.vegalite.v3+json": {
       "$schema": "https://vega.github.io/schema/vega-lite/v3.2.1.json",
       "config": {
        "mark": {
         "tooltip": null
        },
        "view": {
         "height": 300,
         "width": 400
        }
       },
       "data": {
        "name": "data-a3698b941ba8e501314a417bf71a26b0"
       },
       "datasets": {
        "data-a3698b941ba8e501314a417bf71a26b0": [
         {
          "count": 0,
          "flip": "flip_to_correct",
          "model": "decompose_att"
         },
         {
          "count": 0,
          "flip": "flip_to_incorrect",
          "model": "decompose_att"
         },
         {
          "count": 12,
          "flip": "unflip",
          "model": "decompose_att"
         }
        ]
       },
       "encoding": {
        "color": {
         "field": "flip",
         "scale": {
          "domain": [
           "flip_to_correct",
           "flip_to_incorrect",
           "unflip"
          ],
          "range": [
           "#1f77b4",
           "#ff7f0e",
           "#c7c7c7"
          ]
         },
         "type": "nominal"
        },
        "tooltip": [
         {
          "field": "model",
          "type": "nominal"
         },
         {
          "field": "count",
          "type": "quantitative"
         },
         {
          "field": "correctness",
          "type": "nominal"
         }
        ],
        "x": {
         "field": "count",
         "stack": "zero",
         "type": "quantitative"
        },
        "y": {
         "field": "model",
         "type": "nominal"
        }
       },
       "mark": "bar",
       "width": 100
      },
      "image/png": "[encoded data removed]",
      "text/plain": [
       "<VegaLite 3 object>\n",
       "\n",
       "If you see this message, it means the renderer has not been properly enabled\n",
       "for the frontend that you are using. For more information, see\n",
       "https://altair-viz.github.io/user_guide/troubleshooting.html\n"
      ]
     },
     "execution_count": 12,
     "metadata": {},
     "output_type": "execute_result"
    }
   ],
   "source": [
    "rewrite.visualize_models(models=[\"decompose_att\"])"
   ]
  },
  {
   "cell_type": "markdown",
   "metadata": {},
   "source": [
    "We could also print the instance correctness for the given filtering instance in numbers:"
   ]
  },
  {
   "cell_type": "code",
   "execution_count": 13,
   "metadata": {},
   "outputs": [
    {
     "data": {
      "text/plain": [
       "{'counts': {'rewritten': 12,\n",
       "  'prediction_changed': 0,\n",
       "  'flips': {'flip_to_correct': 0, 'flip_to_incorrect': 0, 'unflip': 12}},\n",
       " 'stats': {'coverage': 0.12, 'changed_coverage': 0.0, 'changed_rate': 0.0}}"
      ]
     },
     "execution_count": 13,
     "metadata": {},
     "output_type": "execute_result"
    }
   ],
   "source": [
    "from errudite.rewrites import Rewrite\n",
    "Rewrite.eval_stats(rewrite,qids=None)"
   ]
  },
  {
   "cell_type": "markdown",
   "metadata": {},
   "source": [
    "## Rewrites defined with customized functions\n",
    "\n",
    "Similar to attributes and groups, rewrites can be defined with functions ([documentation]()): "
   ]
  },
  {
   "cell_type": "code",
   "execution_count": 16,
   "metadata": {},
   "outputs": [
    {
     "name": "stderr",
     "output_type": "stream",
     "text": [
      "INFO:errudite.build_blocks.wrapper:Parsed: premise\n"
     ]
    }
   ],
   "source": [
    "rewrite_no_change = Rewrite.create_with_func(\n",
    "    rewrite_func=lambda instance: \"You know what? \" + instance.premise.doc.text,\n",
    "    target_cmd='premise'\n",
    ")"
   ]
  },
  {
   "cell_type": "markdown",
   "metadata": {},
   "source": [
    "# Save & reload\n",
    "\n",
    "The saving and reloading of rewrite rules are similar to those of attributes or groups."
   ]
  },
  {
   "cell_type": "code",
   "execution_count": null,
   "metadata": {},
   "outputs": [],
   "source": [
    "Rewrite.export_to_file (file_name=\"save_rewrite.json\")"
   ]
  },
  {
   "cell_type": "code",
   "execution_count": 12,
   "metadata": {},
   "outputs": [
    {
     "name": "stderr",
     "output_type": "stream",
     "text": [
      "INFO:errudite.build_blocks.wrapper:Parsed: premise\n"
     ]
    },
    {
     "data": {
      "text/plain": [
       "{'CARDINAL NOUN VERB -> one NOUN VERB': [ReplacePattern] CARDINAL NOUN VERB -> one NOUN VERB}"
      ]
     },
     "execution_count": 12,
     "metadata": {},
     "output_type": "execute_result"
    }
   ],
   "source": [
    "Rewrite.import_from_file('save_rewrite.json')"
   ]
  },
  {
   "cell_type": "code",
   "execution_count": null,
   "metadata": {},
   "outputs": [],
   "source": []
  }
 ],
 "metadata": {
  "kernelspec": {
   "display_name": "Python 3",
   "language": "python",
   "name": "python3"
  },
  "language_info": {
   "codemirror_mode": {
    "name": "ipython",
    "version": 3
   },
   "file_extension": ".py",
   "mimetype": "text/x-python",
   "name": "python",
   "nbconvert_exporter": "python",
   "pygments_lexer": "ipython3",
   "version": "3.6.5"
  }
 },
 "nbformat": 4,
 "nbformat_minor": 4
}
