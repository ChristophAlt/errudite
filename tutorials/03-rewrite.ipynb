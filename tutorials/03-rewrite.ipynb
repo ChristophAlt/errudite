{
 "cells": [
  {
   "cell_type": "markdown",
   "metadata": {},
   "source": [
    "# Tutorial 03: Counterfactual analysi & Rewrite rules"
   ]
  },
  {
   "cell_type": "markdown",
   "metadata": {},
   "source": [
    "For scalable counterfactual analysis, Errudite uses rules to rewrite all relevant instances within a group – similar to search and replace but with the flexibility and power of the Errudite DSL. \n",
    "\n",
    "Just like `DatasetReader`, `Predictor` and `PrimFunc`, `Rewrite` allows extension through `register`. There are two large types of rewrite rules: defaults (see the documentation), and those implemented in the syntax of `rewrite(target, from -> to)`: \n",
    "\n",
    "> Target indicates the part of the instance that should be rewritten by replacing from with to. Depending on whether or not you want to use linguistic features.\n",
    "\n",
    "We will introduce the latter here."
   ]
  },
  {
   "cell_type": "markdown",
   "metadata": {},
   "source": [
    "### Setup"
   ]
  },
  {
   "cell_type": "code",
   "execution_count": 1,
   "metadata": {},
   "outputs": [
    {
     "name": "stdout",
     "output_type": "stream",
     "text": [
      "<module 'errudite' from '../errudite/__init__.py'>\n"
     ]
    }
   ],
   "source": [
    "%load_ext autoreload\n",
    "%autoreload 2\n",
    "\n",
    "import warnings\n",
    "warnings.filterwarnings('ignore')\n",
    "\n",
    "def import_sys():\n",
    "    import sys\n",
    "    sys.path.append('..')\n",
    "import_sys()\n",
    "\n",
    "import logging\n",
    "logging.basicConfig(level=logging.INFO)\n",
    "logger = logging.getLogger(__name__)  # pylint: disable=invalid-name\n",
    "\n",
    "import errudite\n",
    "print(errudite)"
   ]
  },
  {
   "cell_type": "code",
   "execution_count": 2,
   "metadata": {},
   "outputs": [
    {
     "name": "stdout",
     "output_type": "stream",
     "text": [
      "\u001b[38;5;2m✔ Download and installation successful\u001b[0m\n",
      "You can now load the model via spacy.load('en_core_web_sm')\n"
     ]
    },
    {
     "name": "stderr",
     "output_type": "stream",
     "text": [
      "WARNING:errudite.utils.file_utils:Local path not yet exist, but still parsed: /Users/tongshuangwu/sourcetree/errudite-uwdata/tutorials/caches/vocab.pkl\n",
      "WARNING:errudite.processor.spacy_annotator:(2, 'No such file or directory')\n",
      "INFO:errudite.utils.file_utils:Errudite cache folder selected: ./data/snli_tutorial_caches/\n",
      "INFO:errudite.io.dataset_reader:Loaded 100 objects to ./data/snli_tutorial_caches/instances.pkl.\n",
      "INFO:errudite.io.dataset_reader:Loaded 100 objects to ./data/snli_tutorial_caches/evaluations/decompose_att.pkl.\n"
     ]
    }
   ],
   "source": [
    "# set the dataset reader\n",
    "from errudite.io import DatasetReader\n",
    "\n",
    "cache_folder_path = \"./data/snli_tutorial_caches/\"\n",
    "reader = DatasetReader.by_name(\"snli\")(\n",
    "    cache_folder_path=cache_folder_path)\n",
    "instances = reader.load_preprocessed()"
   ]
  },
  {
   "cell_type": "markdown",
   "metadata": {},
   "source": [
    "## Create the Pattern Replacing Rule\n",
    "\n",
    "As mentioned before, a typical customized rewrite rule  rewrites the `target_cmd` part of an instance by replacing `from_cmd` with `to_cmd`. The name/rid of the rule is: `{from_cmd} -> {to_cmd}` ([documentation](https://errudite.readthedocs.io/en/latest/api/errudite.rewrites.defines.html)).\n",
    "\n",
    "Both `from_cmd` and `to_cmd` can include linguistic annotations, in ALL CAPS. For example, to create a rule that add \"not\" before an adjective in the hypothesis, we can input `from_cmd=\"ADJ\"`, and `to_cmd=\"not ADJ\"`."
   ]
  },
  {
   "cell_type": "code",
   "execution_count": 3,
   "metadata": {},
   "outputs": [
    {
     "name": "stderr",
     "output_type": "stream",
     "text": [
      "INFO:errudite.build_blocks.wrapper:Parsed: hypothesis\n"
     ]
    },
    {
     "name": "stdout",
     "output_type": "stream",
     "text": [
      "<class 'errudite.rewrites.replace_pattern.ReplacePattern'>\n"
     ]
    }
   ],
   "source": [
    "from errudite.rewrites import Rewrite\n",
    "rewrite = Rewrite.create_with_cmd(\n",
    "    from_cmd='ADJ', \n",
    "    to_cmd='not ADJ', \n",
    "    target_cmd='hypothesis'\n",
    ")"
   ]
  },
  {
   "cell_type": "code",
   "execution_count": 4,
   "metadata": {},
   "outputs": [
    {
     "data": {
      "text/plain": [
       "PatternMeta(before=[{'POS': 'ADJ'}], after=({'LOWER': 'not'}, {'POS': 'ADJ'}))"
      ]
     },
     "execution_count": 4,
     "metadata": {},
     "output_type": "execute_result"
    }
   ],
   "source": [
    "rewrite.pattern"
   ]
  },
  {
   "cell_type": "markdown",
   "metadata": {},
   "source": [
    "### Run the rewrite and save the new instance\n",
    "\n",
    "Once a rewrite is created, you could apply the rewrite to all instances at once, and formalize the rewritten instances in a way similar to the preprocessing steps. Let's first load a predictor:"
   ]
  },
  {
   "cell_type": "code",
   "execution_count": 5,
   "metadata": {
    "scrolled": true
   },
   "outputs": [
    {
     "name": "stderr",
     "output_type": "stream",
     "text": [
      "INFO:pytorch_pretrained_bert.modeling:Better speed can be achieved with apex installed from https://www.github.com/nvidia/apex .\n",
      "/Users/tongshuangwu/sourcetree/errudite-uwdata/venv/lib/python3.6/site-packages/sklearn/utils/linear_assignment_.py:21: DeprecationWarning: The linear_assignment_ module is deprecated in 0.21 and will be removed from 0.23. Use scipy.optimize.linear_sum_assignment instead.\n",
      "  DeprecationWarning)\n",
      "INFO:allennlp.models.archival:loading archive file https://s3-us-west-2.amazonaws.com/allennlp/models/decomposable-attention-elmo-2018.02.19.tar.gz from cache at /Users/tongshuangwu/.allennlp/cache/1dbdfb3ce5af46c5b83353727b579a5596d45a121d59199f1c838928a87e3796.21e6e14db76ce734b669577cc3046333c6bc853767246356b4a8b2c6a85249a8\n",
      "INFO:allennlp.models.archival:extracting archive file /Users/tongshuangwu/.allennlp/cache/1dbdfb3ce5af46c5b83353727b579a5596d45a121d59199f1c838928a87e3796.21e6e14db76ce734b669577cc3046333c6bc853767246356b4a8b2c6a85249a8 to temp dir /var/folders/9k/yx4ryhp918qfxx59mmp174lh0000gn/T/tmpj9ffv0dc\n",
      "INFO:allennlp.common.params:type = default\n",
      "INFO:allennlp.data.vocabulary:Loading token dictionary from /var/folders/9k/yx4ryhp918qfxx59mmp174lh0000gn/T/tmpj9ffv0dc/vocabulary.\n",
      "INFO:allennlp.common.from_params:instantiating class <class 'allennlp.models.model.Model'> from params {'similarity_function': {'type': 'dot_product'}, 'aggregate_feedforward': {'activations': ['relu', 'linear'], 'dropout': [0.2, 0], 'hidden_dims': [200, 3], 'input_dim': 400, 'num_layers': 2}, 'initializer': [['.*linear_layers.*weight', {'type': 'xavier_normal'}], ['.*token_embedder_tokens\\\\._projection.*weight', {'type': 'xavier_normal'}]], 'type': 'decomposable_attention', 'attend_feedforward': {'activations': 'relu', 'dropout': 0.2, 'hidden_dims': 200, 'input_dim': 1024, 'num_layers': 2}, 'compare_feedforward': {'activations': 'relu', 'dropout': 0.2, 'hidden_dims': 200, 'input_dim': 2048, 'num_layers': 2}, 'text_field_embedder': {'elmo': {'type': 'elmo_token_embedder', 'do_layer_norm': False, 'dropout': 0.2, 'options_file': '/var/folders/9k/yx4ryhp918qfxx59mmp174lh0000gn/T/tmpj9ffv0dc/fta/model.text_field_embedder.elmo.options_file', 'weight_file': '/var/folders/9k/yx4ryhp918qfxx59mmp174lh0000gn/T/tmpj9ffv0dc/fta/model.text_field_embedder.elmo.weight_file'}}} and extras {'vocab'}\n",
      "INFO:allennlp.common.params:model.type = decomposable_attention\n",
      "INFO:allennlp.common.from_params:instantiating class <class 'allennlp.models.decomposable_attention.DecomposableAttention'> from params {'similarity_function': {'type': 'dot_product'}, 'aggregate_feedforward': {'activations': ['relu', 'linear'], 'dropout': [0.2, 0], 'hidden_dims': [200, 3], 'input_dim': 400, 'num_layers': 2}, 'initializer': [['.*linear_layers.*weight', {'type': 'xavier_normal'}], ['.*token_embedder_tokens\\\\._projection.*weight', {'type': 'xavier_normal'}]], 'attend_feedforward': {'activations': 'relu', 'dropout': 0.2, 'hidden_dims': 200, 'input_dim': 1024, 'num_layers': 2}, 'compare_feedforward': {'activations': 'relu', 'dropout': 0.2, 'hidden_dims': 200, 'input_dim': 2048, 'num_layers': 2}, 'text_field_embedder': {'elmo': {'type': 'elmo_token_embedder', 'do_layer_norm': False, 'dropout': 0.2, 'options_file': '/var/folders/9k/yx4ryhp918qfxx59mmp174lh0000gn/T/tmpj9ffv0dc/fta/model.text_field_embedder.elmo.options_file', 'weight_file': '/var/folders/9k/yx4ryhp918qfxx59mmp174lh0000gn/T/tmpj9ffv0dc/fta/model.text_field_embedder.elmo.weight_file'}}} and extras {'vocab'}\n",
      "INFO:allennlp.common.from_params:instantiating class <class 'allennlp.modules.text_field_embedders.text_field_embedder.TextFieldEmbedder'> from params {'elmo': {'type': 'elmo_token_embedder', 'do_layer_norm': False, 'dropout': 0.2, 'options_file': '/var/folders/9k/yx4ryhp918qfxx59mmp174lh0000gn/T/tmpj9ffv0dc/fta/model.text_field_embedder.elmo.options_file', 'weight_file': '/var/folders/9k/yx4ryhp918qfxx59mmp174lh0000gn/T/tmpj9ffv0dc/fta/model.text_field_embedder.elmo.weight_file'}} and extras {'vocab'}\n",
      "INFO:allennlp.common.params:model.text_field_embedder.type = basic\n",
      "INFO:allennlp.common.params:model.text_field_embedder.embedder_to_indexer_map = None\n",
      "INFO:allennlp.common.params:model.text_field_embedder.allow_unmatched_keys = False\n",
      "INFO:allennlp.common.params:model.text_field_embedder.token_embedders = None\n",
      "INFO:allennlp.common.from_params:instantiating class <class 'allennlp.modules.token_embedders.token_embedder.TokenEmbedder'> from params {'type': 'elmo_token_embedder', 'do_layer_norm': False, 'dropout': 0.2, 'options_file': '/var/folders/9k/yx4ryhp918qfxx59mmp174lh0000gn/T/tmpj9ffv0dc/fta/model.text_field_embedder.elmo.options_file', 'weight_file': '/var/folders/9k/yx4ryhp918qfxx59mmp174lh0000gn/T/tmpj9ffv0dc/fta/model.text_field_embedder.elmo.weight_file'} and extras {'vocab'}\n",
      "INFO:allennlp.common.params:model.text_field_embedder.elmo.type = elmo_token_embedder\n",
      "INFO:allennlp.common.params:model.text_field_embedder.elmo.options_file = /var/folders/9k/yx4ryhp918qfxx59mmp174lh0000gn/T/tmpj9ffv0dc/fta/model.text_field_embedder.elmo.options_file\n",
      "INFO:allennlp.common.params:model.text_field_embedder.elmo.weight_file = /var/folders/9k/yx4ryhp918qfxx59mmp174lh0000gn/T/tmpj9ffv0dc/fta/model.text_field_embedder.elmo.weight_file\n",
      "INFO:allennlp.common.params:model.text_field_embedder.elmo.requires_grad = False\n",
      "INFO:allennlp.common.params:model.text_field_embedder.elmo.do_layer_norm = False\n",
      "INFO:allennlp.common.params:model.text_field_embedder.elmo.dropout = 0.2\n",
      "INFO:allennlp.common.params:model.text_field_embedder.elmo.namespace_to_cache = None\n",
      "INFO:allennlp.common.params:model.text_field_embedder.elmo.projection_dim = None\n",
      "INFO:allennlp.common.params:model.text_field_embedder.elmo.scalar_mix_parameters = None\n",
      "INFO:allennlp.modules.elmo:Initializing ELMo\n",
      "INFO:allennlp.common.from_params:instantiating class <class 'allennlp.modules.feedforward.FeedForward'> from params {'activations': 'relu', 'dropout': 0.2, 'hidden_dims': 200, 'input_dim': 1024, 'num_layers': 2} and extras {'vocab'}\n",
      "INFO:allennlp.common.params:model.attend_feedforward.input_dim = 1024\n",
      "INFO:allennlp.common.params:model.attend_feedforward.num_layers = 2\n",
      "INFO:allennlp.common.params:model.attend_feedforward.hidden_dims = 200\n",
      "INFO:allennlp.common.params:model.attend_feedforward.activations = relu\n",
      "INFO:allennlp.common.params:model.attend_feedforward.dropout = 0.2\n",
      "INFO:allennlp.common.from_params:instantiating class <class 'allennlp.modules.similarity_functions.similarity_function.SimilarityFunction'> from params {'type': 'dot_product'} and extras {'vocab'}\n",
      "INFO:allennlp.common.params:model.similarity_function.type = dot_product\n",
      "INFO:allennlp.common.from_params:instantiating class <class 'allennlp.modules.similarity_functions.dot_product.DotProductSimilarity'> from params {} and extras {'vocab'}\n",
      "INFO:allennlp.common.params:model.similarity_function.scale_output = False\n",
      "INFO:allennlp.common.from_params:instantiating class <class 'allennlp.modules.feedforward.FeedForward'> from params {'activations': 'relu', 'dropout': 0.2, 'hidden_dims': 200, 'input_dim': 2048, 'num_layers': 2} and extras {'vocab'}\n",
      "INFO:allennlp.common.params:model.compare_feedforward.input_dim = 2048\n",
      "INFO:allennlp.common.params:model.compare_feedforward.num_layers = 2\n",
      "INFO:allennlp.common.params:model.compare_feedforward.hidden_dims = 200\n",
      "INFO:allennlp.common.params:model.compare_feedforward.activations = relu\n",
      "INFO:allennlp.common.params:model.compare_feedforward.dropout = 0.2\n",
      "INFO:allennlp.common.from_params:instantiating class <class 'allennlp.modules.feedforward.FeedForward'> from params {'activations': ['relu', 'linear'], 'dropout': [0.2, 0], 'hidden_dims': [200, 3], 'input_dim': 400, 'num_layers': 2} and extras {'vocab'}\n",
      "INFO:allennlp.common.params:model.aggregate_feedforward.input_dim = 400\n",
      "INFO:allennlp.common.params:model.aggregate_feedforward.num_layers = 2\n",
      "INFO:allennlp.common.params:model.aggregate_feedforward.hidden_dims = [200, 3]\n",
      "INFO:allennlp.common.params:model.aggregate_feedforward.hidden_dims = [200, 3]\n",
      "INFO:allennlp.common.params:model.aggregate_feedforward.activations = ['relu', 'linear']\n",
      "INFO:allennlp.common.from_params:instantiating class <class 'allennlp.nn.activations.Activation'> from params ['relu', 'linear'] and extras {'vocab'}\n",
      "INFO:allennlp.common.params:model.aggregate_feedforward.activations = ['relu', 'linear']\n",
      "INFO:allennlp.common.from_params:instantiating class <class 'allennlp.nn.activations.Activation'> from params relu and extras {'vocab'}\n",
      "INFO:allennlp.common.params:type = relu\n",
      "INFO:allennlp.common.from_params:instantiating class <class 'allennlp.nn.activations.Activation'> from params linear and extras {'vocab'}\n",
      "INFO:allennlp.common.params:type = linear\n",
      "INFO:allennlp.common.params:model.aggregate_feedforward.dropout = [0.2, 0]\n",
      "INFO:allennlp.common.params:model.aggregate_feedforward.dropout = [0.2, 0]\n",
      "INFO:allennlp.common.params:model.initializer = [['.*linear_layers.*weight', {'type': 'xavier_normal'}], ['.*token_embedder_tokens\\\\._projection.*weight', {'type': 'xavier_normal'}]]\n",
      "INFO:allennlp.common.from_params:instantiating class <class 'allennlp.nn.initializers.Initializer'> from params {'type': 'xavier_normal'} and extras set()\n",
      "INFO:allennlp.common.params:model.initializer.0.1.type = xavier_normal\n",
      "INFO:allennlp.common.params:Converting Params object to dict; logging of default values will not occur when dictionary parameters are used subsequently.\n",
      "INFO:allennlp.common.params:CURRENTLY DEFINED PARAMETERS: \n",
      "INFO:allennlp.common.from_params:instantiating class <class 'allennlp.nn.initializers.Initializer'> from params {'type': 'xavier_normal'} and extras set()\n",
      "INFO:allennlp.common.params:model.initializer.1.1.type = xavier_normal\n",
      "INFO:allennlp.common.params:Converting Params object to dict; logging of default values will not occur when dictionary parameters are used subsequently.\n",
      "INFO:allennlp.common.params:CURRENTLY DEFINED PARAMETERS: \n",
      "INFO:allennlp.nn.initializers:Initializing parameters\n",
      "INFO:allennlp.nn.initializers:Initializing _attend_feedforward._module._linear_layers.0.weight using .*linear_layers.*weight intitializer\n",
      "INFO:allennlp.nn.initializers:Initializing _attend_feedforward._module._linear_layers.1.weight using .*linear_layers.*weight intitializer\n",
      "INFO:allennlp.nn.initializers:Initializing _compare_feedforward._module._linear_layers.0.weight using .*linear_layers.*weight intitializer\n",
      "INFO:allennlp.nn.initializers:Initializing _compare_feedforward._module._linear_layers.1.weight using .*linear_layers.*weight intitializer\n",
      "INFO:allennlp.nn.initializers:Initializing _aggregate_feedforward._linear_layers.0.weight using .*linear_layers.*weight intitializer\n",
      "INFO:allennlp.nn.initializers:Initializing _aggregate_feedforward._linear_layers.1.weight using .*linear_layers.*weight intitializer\n",
      "WARNING:allennlp.nn.initializers:Did not use initialization regex that was passed: .*token_embedder_tokens\\._projection.*weight\n",
      "INFO:allennlp.nn.initializers:Done initializing parameters; the following parameters are using their default initialization from their code\n",
      "INFO:allennlp.nn.initializers:   _aggregate_feedforward._linear_layers.0.bias\n",
      "INFO:allennlp.nn.initializers:   _aggregate_feedforward._linear_layers.1.bias\n",
      "INFO:allennlp.nn.initializers:   _attend_feedforward._module._linear_layers.0.bias\n",
      "INFO:allennlp.nn.initializers:   _attend_feedforward._module._linear_layers.1.bias\n",
      "INFO:allennlp.nn.initializers:   _compare_feedforward._module._linear_layers.0.bias\n",
      "INFO:allennlp.nn.initializers:   _compare_feedforward._module._linear_layers.1.bias\n",
      "INFO:allennlp.nn.initializers:   _text_field_embedder.token_embedder_elmo._elmo._elmo_lstm._elmo_lstm.backward_layer_0.input_linearity.weight\n",
      "INFO:allennlp.nn.initializers:   _text_field_embedder.token_embedder_elmo._elmo._elmo_lstm._elmo_lstm.backward_layer_0.state_linearity.bias\n",
      "INFO:allennlp.nn.initializers:   _text_field_embedder.token_embedder_elmo._elmo._elmo_lstm._elmo_lstm.backward_layer_0.state_linearity.weight\n",
      "INFO:allennlp.nn.initializers:   _text_field_embedder.token_embedder_elmo._elmo._elmo_lstm._elmo_lstm.backward_layer_0.state_projection.weight\n",
      "INFO:allennlp.nn.initializers:   _text_field_embedder.token_embedder_elmo._elmo._elmo_lstm._elmo_lstm.backward_layer_1.input_linearity.weight\n",
      "INFO:allennlp.nn.initializers:   _text_field_embedder.token_embedder_elmo._elmo._elmo_lstm._elmo_lstm.backward_layer_1.state_linearity.bias\n",
      "INFO:allennlp.nn.initializers:   _text_field_embedder.token_embedder_elmo._elmo._elmo_lstm._elmo_lstm.backward_layer_1.state_linearity.weight\n",
      "INFO:allennlp.nn.initializers:   _text_field_embedder.token_embedder_elmo._elmo._elmo_lstm._elmo_lstm.backward_layer_1.state_projection.weight\n",
      "INFO:allennlp.nn.initializers:   _text_field_embedder.token_embedder_elmo._elmo._elmo_lstm._elmo_lstm.forward_layer_0.input_linearity.weight\n",
      "INFO:allennlp.nn.initializers:   _text_field_embedder.token_embedder_elmo._elmo._elmo_lstm._elmo_lstm.forward_layer_0.state_linearity.bias\n",
      "INFO:allennlp.nn.initializers:   _text_field_embedder.token_embedder_elmo._elmo._elmo_lstm._elmo_lstm.forward_layer_0.state_linearity.weight\n",
      "INFO:allennlp.nn.initializers:   _text_field_embedder.token_embedder_elmo._elmo._elmo_lstm._elmo_lstm.forward_layer_0.state_projection.weight\n",
      "INFO:allennlp.nn.initializers:   _text_field_embedder.token_embedder_elmo._elmo._elmo_lstm._elmo_lstm.forward_layer_1.input_linearity.weight\n",
      "INFO:allennlp.nn.initializers:   _text_field_embedder.token_embedder_elmo._elmo._elmo_lstm._elmo_lstm.forward_layer_1.state_linearity.bias\n",
      "INFO:allennlp.nn.initializers:   _text_field_embedder.token_embedder_elmo._elmo._elmo_lstm._elmo_lstm.forward_layer_1.state_linearity.weight\n",
      "INFO:allennlp.nn.initializers:   _text_field_embedder.token_embedder_elmo._elmo._elmo_lstm._elmo_lstm.forward_layer_1.state_projection.weight\n",
      "INFO:allennlp.nn.initializers:   _text_field_embedder.token_embedder_elmo._elmo._elmo_lstm._token_embedder._char_embedding_weights\n",
      "INFO:allennlp.nn.initializers:   _text_field_embedder.token_embedder_elmo._elmo._elmo_lstm._token_embedder._highways._layers.0.bias\n",
      "INFO:allennlp.nn.initializers:   _text_field_embedder.token_embedder_elmo._elmo._elmo_lstm._token_embedder._highways._layers.0.weight\n",
      "INFO:allennlp.nn.initializers:   _text_field_embedder.token_embedder_elmo._elmo._elmo_lstm._token_embedder._highways._layers.1.bias\n",
      "INFO:allennlp.nn.initializers:   _text_field_embedder.token_embedder_elmo._elmo._elmo_lstm._token_embedder._highways._layers.1.weight\n",
      "INFO:allennlp.nn.initializers:   _text_field_embedder.token_embedder_elmo._elmo._elmo_lstm._token_embedder._projection.bias\n",
      "INFO:allennlp.nn.initializers:   _text_field_embedder.token_embedder_elmo._elmo._elmo_lstm._token_embedder._projection.weight\n",
      "INFO:allennlp.nn.initializers:   _text_field_embedder.token_embedder_elmo._elmo._elmo_lstm._token_embedder.char_conv_0.bias\n",
      "INFO:allennlp.nn.initializers:   _text_field_embedder.token_embedder_elmo._elmo._elmo_lstm._token_embedder.char_conv_0.weight\n",
      "INFO:allennlp.nn.initializers:   _text_field_embedder.token_embedder_elmo._elmo._elmo_lstm._token_embedder.char_conv_1.bias\n",
      "INFO:allennlp.nn.initializers:   _text_field_embedder.token_embedder_elmo._elmo._elmo_lstm._token_embedder.char_conv_1.weight\n",
      "INFO:allennlp.nn.initializers:   _text_field_embedder.token_embedder_elmo._elmo._elmo_lstm._token_embedder.char_conv_2.bias\n",
      "INFO:allennlp.nn.initializers:   _text_field_embedder.token_embedder_elmo._elmo._elmo_lstm._token_embedder.char_conv_2.weight\n",
      "INFO:allennlp.nn.initializers:   _text_field_embedder.token_embedder_elmo._elmo._elmo_lstm._token_embedder.char_conv_3.bias\n",
      "INFO:allennlp.nn.initializers:   _text_field_embedder.token_embedder_elmo._elmo._elmo_lstm._token_embedder.char_conv_3.weight\n",
      "INFO:allennlp.nn.initializers:   _text_field_embedder.token_embedder_elmo._elmo._elmo_lstm._token_embedder.char_conv_4.bias\n",
      "INFO:allennlp.nn.initializers:   _text_field_embedder.token_embedder_elmo._elmo._elmo_lstm._token_embedder.char_conv_4.weight\n",
      "INFO:allennlp.nn.initializers:   _text_field_embedder.token_embedder_elmo._elmo._elmo_lstm._token_embedder.char_conv_5.bias\n",
      "INFO:allennlp.nn.initializers:   _text_field_embedder.token_embedder_elmo._elmo._elmo_lstm._token_embedder.char_conv_5.weight\n",
      "INFO:allennlp.nn.initializers:   _text_field_embedder.token_embedder_elmo._elmo._elmo_lstm._token_embedder.char_conv_6.bias\n",
      "INFO:allennlp.nn.initializers:   _text_field_embedder.token_embedder_elmo._elmo._elmo_lstm._token_embedder.char_conv_6.weight\n",
      "INFO:allennlp.nn.initializers:   _text_field_embedder.token_embedder_elmo._elmo.scalar_mix_0.gamma\n",
      "INFO:allennlp.nn.initializers:   _text_field_embedder.token_embedder_elmo._elmo.scalar_mix_0.scalar_parameters.0\n",
      "INFO:allennlp.nn.initializers:   _text_field_embedder.token_embedder_elmo._elmo.scalar_mix_0.scalar_parameters.1\n",
      "INFO:allennlp.nn.initializers:   _text_field_embedder.token_embedder_elmo._elmo.scalar_mix_0.scalar_parameters.2\n",
      "INFO:allennlp.common.from_params:instantiating class <class 'allennlp.data.dataset_readers.dataset_reader.DatasetReader'> from params {'token_indexers': {'elmo': {'type': 'elmo_characters'}}, 'tokenizer': {'end_tokens': ['@@NULL@@']}, 'type': 'snli'} and extras set()\n",
      "INFO:allennlp.common.params:dataset_reader.type = snli\n",
      "INFO:allennlp.common.from_params:instantiating class <class 'allennlp.data.dataset_readers.snli.SnliReader'> from params {'token_indexers': {'elmo': {'type': 'elmo_characters'}}, 'tokenizer': {'end_tokens': ['@@NULL@@']}} and extras set()\n",
      "INFO:allennlp.common.from_params:instantiating class <class 'allennlp.data.tokenizers.tokenizer.Tokenizer'> from params {'end_tokens': ['@@NULL@@']} and extras set()\n",
      "INFO:allennlp.common.params:dataset_reader.tokenizer.type = word\n",
      "INFO:allennlp.common.from_params:instantiating class <class 'allennlp.data.tokenizers.word_tokenizer.WordTokenizer'> from params {'end_tokens': ['@@NULL@@']} and extras set()\n",
      "INFO:allennlp.common.params:dataset_reader.tokenizer.start_tokens = None\n",
      "INFO:allennlp.common.params:dataset_reader.tokenizer.end_tokens = ['@@NULL@@']\n",
      "INFO:allennlp.common.from_params:instantiating class allennlp.data.token_indexers.token_indexer.TokenIndexer from params {'type': 'elmo_characters'} and extras set()\n",
      "INFO:allennlp.common.params:dataset_reader.token_indexers.elmo.type = elmo_characters\n",
      "INFO:allennlp.common.from_params:instantiating class allennlp.data.token_indexers.elmo_indexer.ELMoTokenCharactersIndexer from params {} and extras set()\n",
      "INFO:allennlp.common.params:dataset_reader.token_indexers.elmo.namespace = elmo_characters\n",
      "INFO:allennlp.common.params:dataset_reader.token_indexers.elmo.tokens_to_add = None\n",
      "INFO:allennlp.common.params:dataset_reader.token_indexers.elmo.token_min_padding_length = 0\n",
      "INFO:allennlp.common.params:dataset_reader.lazy = False\n"
     ]
    }
   ],
   "source": [
    "# ---------\n",
    "# load a predictor\n",
    "from errudite.predictors import Predictor\n",
    "model_online_path = \"https://s3-us-west-2.amazonaws.com/allennlp/models/decomposable-attention-elmo-2018.02.19.tar.gz\"\n",
    "predictor = Predictor.by_name(\"nli_decompose_att\")(\n",
    "    name='decompose_att', \n",
    "    description='Pretrained model from Allennlp, for the decomposable attention model',\n",
    "    model_online_path=model_online_path)"
   ]
  },
  {
   "cell_type": "markdown",
   "metadata": {},
   "source": [
    "#### Create a group of instances to be rewritten.\n",
    "\n",
    "The rewrite could be applied to all instances, or just a group of instances that you are interested in. In our previous tutorial, we've seen that the model correctly predict all instances that have high `overlap(premise, hypothesis)`. Is the model smart enough to sense the change of hypothesis direction, when we add negation to it? We create a group of instances with high overlap:"
   ]
  },
  {
   "cell_type": "code",
   "execution_count": 6,
   "metadata": {},
   "outputs": [
    {
     "name": "stderr",
     "output_type": "stream",
     "text": [
      "INFO:errudite.build_blocks.wrapper:Parsed: [BinOp](>):[FuncOp(overlap):[ArgOp:premise, ArgOp:hypothesis]+[], 0.5]\n",
      "INFO:errudite.builts.group:Created group: high_overlap\n"
     ]
    }
   ],
   "source": [
    "from errudite.builts import Group\n",
    "group = Group.create(\n",
    "    name=\"high_overlap\",\n",
    "    description=\"The premise and the hypothsis have high textual overlap.\",\n",
    "    cmd=\"overlap(premise, hypothesis) > 0.5\",\n",
    ")"
   ]
  },
  {
   "cell_type": "markdown",
   "metadata": {},
   "source": [
    "Then, rewrite all the instances in the group:"
   ]
  },
  {
   "cell_type": "code",
   "execution_count": 7,
   "metadata": {},
   "outputs": [
    {
     "name": "stderr",
     "output_type": "stream",
     "text": [
      "100%|██████████| 12/12 [00:03<00:00,  3.52it/s]\n"
     ]
    }
   ],
   "source": [
    "from errudite.targets.instance import Instance\n",
    "from errudite.targets.target import Target\n",
    "from tqdm import tqdm\n",
    "\n",
    "for key in tqdm(group.get_instances()):\n",
    "    \"\"\"\n",
    "    This function returns a named tuple, with rid and the \n",
    "    rewritten text of the instance intended target. \n",
    "    If the instance cannot be rewritten, return None.\n",
    "    \"\"\"\n",
    "    instance = Instance.get(key)\n",
    "    rewritten_output = rewrite.rewrite_one_instance(instance)\n",
    "    if not rewritten_output:\n",
    "        continue\n",
    "    entries = {}\n",
    "    # compute the vid automatically\n",
    "    vid = len(Instance.qid_hash[instance.qid])\n",
    "    # init the instance \n",
    "    rewritten_instance = Instance(\n",
    "        qid=instance.qid, vid=vid, rid=rewrite.rid)\n",
    "    for e in instance.entries:\n",
    "        if e in rewrite.target_cmd:\n",
    "            # automatically create a new Target for the \n",
    "            # rewritten part.\n",
    "            entry = Target(\n",
    "                qid=instance.qid, \n",
    "                text=rewritten_output.text, \n",
    "                vid=vid, \n",
    "                metas=instance.get_entry(e).metas)\n",
    "        else:\n",
    "            # Otherwise, use the original target\n",
    "            entry = instance.get_entry(e)\n",
    "        # save all the entries\n",
    "        rewritten_instance.set_entries(**{e: entry})\n",
    "    # run the prediction\n",
    "    prediction = Predictor.by_name(\"nli_task_class\").model_predict(\n",
    "        predictor, \n",
    "        rewritten_instance.get_entry('premise'), \n",
    "        rewritten_instance.get_entry('hypothesis'), \n",
    "        rewritten_instance.get_entry('groundtruth'))\n",
    "    # save the prediction\n",
    "    rewritten_instance.set_entries(predictions= [ prediction ])\n",
    "    # set the rewritten key into the rewrite\n",
    "    rewrite.add_instance(rewritten_instance.key())\n",
    "    # save into the Instance hashes\n",
    "    Instance.save(rewritten_instance)"
   ]
  },
  {
   "cell_type": "markdown",
   "metadata": {},
   "source": [
    "Take a look at the rewritten instances that have changed predictions:"
   ]
  },
  {
   "cell_type": "code",
   "execution_count": 10,
   "metadata": {},
   "outputs": [
    {
     "name": "stdout",
     "output_type": "stream",
     "text": [
      "Flipped direction: -1\n",
      "---------------------------------\n",
      "[Instance] [InstanceKey(qid='3497317981.jpg#2r1e', vid=0)]\n",
      "[hypothesis]\tThe man wearing the black shirt plays a game of golf.\n",
      "[premise]\tA man in a black shirt is playing golf outside.\n",
      "[groundtruth]\tentailment\tgroundtruth\t{}\n",
      "[predictions]\tentailment\tdecompose_att\t{'accuracy': 1.0, 'confidence': 0.9510674476623535}\n",
      "\n",
      "[Instance] [InstanceKey(qid='3497317981.jpg#2r1e', vid=1)]\n",
      "[hypothesis]\tThe man wearing the not black shirt plays a game of golf.\n",
      "[premise]\tA man in a black shirt is playing golf outside.\n",
      "[groundtruth]\tentailment\tgroundtruth\t{}\n",
      "[predictions]\tcontradiction\tdecompose_att\t{'accuracy': 0.0, 'confidence': 0.8892191648483276}\n",
      "\n",
      "[Instance] [InstanceKey(qid='3168293517.jpg#2r1e', vid=0)]\n",
      "[hypothesis]\tBoy dressed in blue holds a toy.\n",
      "[premise]\tA little boy in a blue shirt holding a toy.\n",
      "[groundtruth]\tentailment\tgroundtruth\t{}\n",
      "[predictions]\tentailment\tdecompose_att\t{'accuracy': 1.0, 'confidence': 0.971724271774292}\n",
      "\n",
      "[Instance] [InstanceKey(qid='3168293517.jpg#2r1e', vid=1)]\n",
      "[hypothesis]\tBoy dressed in not blue holds a toy.\n",
      "[premise]\tA little boy in a blue shirt holding a toy.\n",
      "[groundtruth]\tentailment\tgroundtruth\t{}\n",
      "[predictions]\tcontradiction\tdecompose_att\t{'accuracy': 0.0, 'confidence': 0.8474966883659363}\n",
      "\n"
     ]
    }
   ],
   "source": [
    "ie = list(Instance.instance_hash_rewritten.values())[1]\n",
    "rewrite.show_changed_instances(ouput_directions=[-1]) # -1 means prediction changed to incorrect"
   ]
  },
  {
   "cell_type": "markdown",
   "metadata": {},
   "source": [
    "#### Visualize rewritten instance changing status:\n",
    "\n",
    "The visualization for a rewrite rule is one-bar histogram that displays the count of instances rewritten, and the proportion of \"flip_to_correct\", \"flip_to_incorrect\", \"unflip\". Because of the flipping proportion, this historgram is different for each different model. Here, we've only rewritten four instances, and two of them have changed predictions -- to incorrect."
   ]
  },
  {
   "cell_type": "code",
   "execution_count": 11,
   "metadata": {},
   "outputs": [
    {
     "data": {
      "application/vnd.vegalite.v3+json": {
       "$schema": "https://vega.github.io/schema/vega-lite/v3.2.1.json",
       "config": {
        "mark": {
         "tooltip": null
        },
        "view": {
         "height": 300,
         "width": 400
        }
       },
       "data": {
        "name": "data-c83f553514f4898dddac2683305fb88a"
       },
       "datasets": {
        "data-c83f553514f4898dddac2683305fb88a": [
         {
          "count": 0,
          "flip": "flip_to_correct",
          "model": "decompose_att"
         },
         {
          "count": 2,
          "flip": "flip_to_incorrect",
          "model": "decompose_att"
         },
         {
          "count": 2,
          "flip": "unflip",
          "model": "decompose_att"
         }
        ]
       },
       "encoding": {
        "color": {
         "field": "flip",
         "scale": {
          "domain": [
           "flip_to_correct",
           "flip_to_incorrect",
           "unflip"
          ],
          "range": [
           "#1f77b4",
           "#ff7f0e",
           "#c7c7c7"
          ]
         },
         "type": "nominal"
        },
        "tooltip": [
         {
          "field": "model",
          "type": "nominal"
         },
         {
          "field": "count",
          "type": "quantitative"
         },
         {
          "field": "correctness",
          "type": "nominal"
         }
        ],
        "x": {
         "field": "count",
         "stack": "zero",
         "type": "quantitative"
        },
        "y": {
         "field": "model",
         "type": "nominal"
        }
       },
       "mark": "bar",
       "width": 100
      },
      "image/png": "[encoded data removed]",
      "text/plain": [
       "<VegaLite 3 object>\n",
       "\n",
       "If you see this message, it means the renderer has not been properly enabled\n",
       "for the frontend that you are using. For more information, see\n",
       "https://altair-viz.github.io/user_guide/troubleshooting.html\n"
      ]
     },
     "execution_count": 11,
     "metadata": {},
     "output_type": "execute_result"
    }
   ],
   "source": [
    "rewrite.visualize_models(models=[\"decompose_att\"])"
   ]
  },
  {
   "cell_type": "markdown",
   "metadata": {},
   "source": [
    "We could also print the instance correctness for the given filtering instance in numbers:"
   ]
  },
  {
   "cell_type": "code",
   "execution_count": 12,
   "metadata": {},
   "outputs": [
    {
     "data": {
      "text/plain": [
       "{'counts': {'rewritten': 4,\n",
       "  'prediction_changed': 2,\n",
       "  'flips': {'flip_to_correct': 0, 'flip_to_incorrect': 2, 'unflip': 2}},\n",
       " 'stats': {'coverage': 0.04, 'changed_coverage': 0.02, 'changed_rate': 0.5}}"
      ]
     },
     "execution_count": 12,
     "metadata": {},
     "output_type": "execute_result"
    }
   ],
   "source": [
    "from errudite.rewrites import Rewrite\n",
    "Rewrite.eval_stats(rewrite,qids=None)"
   ]
  },
  {
   "cell_type": "markdown",
   "metadata": {},
   "source": [
    "## Rewrites defined with customized functions\n",
    "\n",
    "Similar to attributes and groups, rewrites can be defined with functions ([documentation]()): "
   ]
  },
  {
   "cell_type": "code",
   "execution_count": 13,
   "metadata": {},
   "outputs": [
    {
     "name": "stderr",
     "output_type": "stream",
     "text": [
      "INFO:errudite.build_blocks.wrapper:Parsed: premise\n"
     ]
    }
   ],
   "source": [
    "rewrite_no_change = Rewrite.create_with_func(\n",
    "    rewrite_func=lambda instance: \"You know what? \" + instance.premise.doc.text,\n",
    "    target_cmd='premise'\n",
    ")"
   ]
  },
  {
   "cell_type": "markdown",
   "metadata": {},
   "source": [
    "# Save & reload\n",
    "\n",
    "The saving and reloading of rewrite rules are similar to those of attributes or groups."
   ]
  },
  {
   "cell_type": "code",
   "execution_count": null,
   "metadata": {},
   "outputs": [],
   "source": [
    "Rewrite.export_to_file (file_name=\"save_rewrite.json\")"
   ]
  },
  {
   "cell_type": "code",
   "execution_count": 12,
   "metadata": {},
   "outputs": [
    {
     "name": "stderr",
     "output_type": "stream",
     "text": [
      "INFO:errudite.build_blocks.wrapper:Parsed: premise\n"
     ]
    },
    {
     "data": {
      "text/plain": [
       "{'CARDINAL NOUN VERB -> one NOUN VERB': [ReplacePattern] CARDINAL NOUN VERB -> one NOUN VERB}"
      ]
     },
     "execution_count": 12,
     "metadata": {},
     "output_type": "execute_result"
    }
   ],
   "source": [
    "Rewrite.import_from_file('save_rewrite.json')"
   ]
  },
  {
   "cell_type": "code",
   "execution_count": null,
   "metadata": {},
   "outputs": [],
   "source": []
  }
 ],
 "metadata": {
  "kernelspec": {
   "display_name": "Python 3",
   "language": "python",
   "name": "python3"
  },
  "language_info": {
   "codemirror_mode": {
    "name": "ipython",
    "version": 3
   },
   "file_extension": ".py",
   "mimetype": "text/x-python",
   "name": "python",
   "nbconvert_exporter": "python",
   "pygments_lexer": "ipython3",
   "version": "3.6.5"
  }
 },
 "nbformat": 4,
 "nbformat_minor": 4
}
